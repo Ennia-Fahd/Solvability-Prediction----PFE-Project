{
 "cells": [
  {
   "cell_type": "markdown",
   "id": "4ea1fcfe-803f-4ed5-8371-488b0f4de442",
   "metadata": {},
   "source": [
    "# Nettoyage de la dataset avec Spark (pyspark)"
   ]
  },
  {
   "cell_type": "code",
   "execution_count": null,
   "id": "f237bd36-17ad-464b-877a-bbe4bef0ab66",
   "metadata": {},
   "outputs": [
    {
     "name": "stdout",
     "output_type": "stream",
     "text": [
      "Defaulting to user installation because normal site-packages is not writeable\n",
      "Collecting numpy\n",
      "  Downloading numpy-2.0.0-cp39-cp39-manylinux_2_17_x86_64.manylinux2014_x86_64.whl.metadata (60 kB)\n",
      "\u001b[2K     \u001b[90m━━━━━━━━━━━━━━━━━━━━━━━━━━━━━━━━━━━━━━━\u001b[0m \u001b[32m60.9/60.9 kB\u001b[0m \u001b[31m183.9 kB/s\u001b[0m eta \u001b[36m0:00:00\u001b[0ma \u001b[36m0:00:01\u001b[0m\n",
      "\u001b[?25hDownloading numpy-2.0.0-cp39-cp39-manylinux_2_17_x86_64.manylinux2014_x86_64.whl (19.3 MB)\n",
      "\u001b[2K   \u001b[91m━━━━━━━\u001b[0m\u001b[90m╺\u001b[0m\u001b[90m━━━━━━━━━━━━━━━━━━━━━━━━━━━━━━━━\u001b[0m \u001b[32m3.5/19.3 MB\u001b[0m \u001b[31m1.0 MB/s\u001b[0m eta \u001b[36m0:00:16\u001b[0m0m"
     ]
    }
   ],
   "source": [
    "!pip install numpy"
   ]
  },
  {
   "cell_type": "code",
   "execution_count": 1,
   "id": "e26eedff-3b4d-4b6d-afee-d481701afd98",
   "metadata": {},
   "outputs": [],
   "source": [
    "from pyspark.sql import SparkSession\n",
    "from pyspark.sql.functions import col\n",
    "from pyspark.sql import SparkSession\n",
    "from pyspark.sql.functions import col, format_string,round,lit,when,regexp_replace,ceil,concat\n"
   ]
  },
  {
   "cell_type": "code",
   "execution_count": 2,
   "id": "c84a08f5-716b-4875-92fe-c0f8e73ce9e7",
   "metadata": {},
   "outputs": [
    {
     "name": "stderr",
     "output_type": "stream",
     "text": [
      "Setting default log level to \"WARN\".\n",
      "To adjust logging level use sc.setLogLevel(newLevel). For SparkR, use setLogLevel(newLevel).\n"
     ]
    }
   ],
   "source": [
    "# Initialiser la session Spark\n",
    "spark = SparkSession.builder \\\n",
    "    .appName(\"Nettoyage des données financières\") \\\n",
    "    .getOrCreate()"
   ]
  },
  {
   "cell_type": "markdown",
   "id": "e6801f56-63bf-48a6-82c6-1570ae556081",
   "metadata": {},
   "source": [
    "## Nettoyage des données financières des clients"
   ]
  },
  {
   "cell_type": "code",
   "execution_count": 3,
   "id": "f0382d70-b0f7-4d39-ad60-f79773fab3be",
   "metadata": {},
   "outputs": [
    {
     "name": "stderr",
     "output_type": "stream",
     "text": [
      "                                                                                \r"
     ]
    },
    {
     "name": "stdout",
     "output_type": "stream",
     "text": [
      "+------+---------------+------------+--------------------+--------------+\n",
      "|Emp_ID|TauxEndettement|Depense_Gain|              Revenu|Montant_revenu|\n",
      "+------+---------------+------------+--------------------+--------------+\n",
      "|PDBO18|             30|   Crediteur|Investissements i...|         31240|\n",
      "|URKQ44|              9|   Crediteur|Travail Independa...|         21402|\n",
      "|CJHP88|             37|   Crediteur|Location Immobili...|         46840|\n",
      "|MFVC48|             33|   Crediteur|Salaire Net (1007...|         78981|\n",
      "|FRQG19|             79|   Crediteur|Salaire Net (1520...|          5620|\n",
      "|AFSY16|             77|   Crediteur|Placements Financ...|         94054|\n",
      "|OOJJ49|             81|    Debiteur|Salaire Net (1522...|         65277|\n",
      "|GUTI55|             58|   Crediteur|Salaire Net (2069...|         34914|\n",
      "|YEBV67|             39|   Crediteur| Salaire Net (22364)|          7647|\n",
      "|HFRK17|             42|   Crediteur|           Agricoles|         26259|\n",
      "|DPNR37|             74|    Debiteur|Travail Independa...|         90618|\n",
      "|QLYU27|             11|    Debiteur|Placements Financ...|         80003|\n",
      "|HHRX13|             30|    Debiteur|Location Immobiliere|         83187|\n",
      "|VQVX26|             90|    Debiteur|Salaire Net (4109...|         85992|\n",
      "|ZWDD81|             72|    Debiteur|Dividendes- Pensi...|         36347|\n",
      "|FZGH80|             70|   Crediteur|Investissements i...|         91563|\n",
      "|IGAI28|             67|    Debiteur|Location Immobili...|         94794|\n",
      "|OBEY66|             75|   Crediteur|Placements Financ...|         39481|\n",
      "|MGGK58|             27|   Crediteur|Investissements i...|         85471|\n",
      "|HKES60|             43|    Debiteur|           Agricoles|          2844|\n",
      "+------+---------------+------------+--------------------+--------------+\n",
      "only showing top 20 rows\n",
      "\n"
     ]
    }
   ],
   "source": [
    "df = spark.read.option(\"header\", \"true\").option(\"encoding\", \"UTF-8\").csv(\"/Omnidata_PFE_dataset/Situation_Financière.csv\")\n",
    "df.show()\n"
   ]
  },
  {
   "cell_type": "code",
   "execution_count": 4,
   "id": "6440b67b-d901-49cc-9279-e1fcbb471f49",
   "metadata": {},
   "outputs": [
    {
     "name": "stdout",
     "output_type": "stream",
     "text": [
      "root\n",
      " |-- Emp_ID: string (nullable = true)\n",
      " |-- TauxEndettement: string (nullable = true)\n",
      " |-- Depense_Gain: string (nullable = true)\n",
      " |-- Revenu: string (nullable = true)\n",
      " |-- Montant_revenu: string (nullable = true)\n",
      "\n"
     ]
    }
   ],
   "source": [
    "# Afficher le schéma pour vérifier les types de données\n",
    "df.printSchema()"
   ]
  },
  {
   "cell_type": "code",
   "execution_count": 5,
   "id": "284d755f-fdb7-4799-b233-3d0f5d85ddee",
   "metadata": {},
   "outputs": [
    {
     "name": "stderr",
     "output_type": "stream",
     "text": [
      "[Stage 2:>                                                          (0 + 2) / 2]\r"
     ]
    },
    {
     "name": "stdout",
     "output_type": "stream",
     "text": [
      "1000000\n"
     ]
    },
    {
     "name": "stderr",
     "output_type": "stream",
     "text": [
      "                                                                                \r"
     ]
    }
   ],
   "source": [
    "# Nombre d'élément dans la dataset\n",
    "print(df.count())"
   ]
  },
  {
   "cell_type": "markdown",
   "id": "aebbfc38-5bc5-406d-8acc-ba50b2d59aac",
   "metadata": {},
   "source": [
    "#### Transformer les taux d'endettement dans un intervalle [0,60]"
   ]
  },
  {
   "cell_type": "code",
   "execution_count": 6,
   "id": "3925cf9d-12ea-467c-8e4a-347720f676a4",
   "metadata": {},
   "outputs": [
    {
     "name": "stderr",
     "output_type": "stream",
     "text": [
      "[Stage 5:>                                                          (0 + 2) / 2]\r"
     ]
    },
    {
     "name": "stdout",
     "output_type": "stream",
     "text": [
      "Nombre de personnes dont le TauxEndettement est supérieur à 60: 395738\n"
     ]
    },
    {
     "name": "stderr",
     "output_type": "stream",
     "text": [
      "                                                                                \r"
     ]
    }
   ],
   "source": [
    "# Convertir la colonne TauxEndettement en entier (int)\n",
    "filtered_df = df.withColumn(\"TauxEndettement\", col(\"TauxEndettement\").cast(\"int\"))\n",
    "\n",
    "# Filtrer les lignes où TauxEndettement > 60\n",
    "filtered_df = filtered_df.filter(col(\"TauxEndettement\") > 60)\n",
    "\n",
    "# Compter le nombre de lignes filtrées\n",
    "count = filtered_df.count()\n",
    "\n",
    "print(f\"Nombre de personnes dont le TauxEndettement est supérieur à 60: {count}\")"
   ]
  },
  {
   "cell_type": "code",
   "execution_count": 7,
   "id": "a3ace02c-cbb3-4a95-80e4-d835e6020905",
   "metadata": {
    "scrolled": true
   },
   "outputs": [
    {
     "name": "stdout",
     "output_type": "stream",
     "text": [
      "root\n",
      " |-- Emp_ID: string (nullable = true)\n",
      " |-- TauxEndettement: integer (nullable = true)\n",
      " |-- Depense_Gain: string (nullable = true)\n",
      " |-- Revenu: string (nullable = true)\n",
      " |-- Montant_revenu: string (nullable = true)\n",
      "\n",
      "+------+---------------+------------+--------------------+--------------+\n",
      "|Emp_ID|TauxEndettement|Depense_Gain|              Revenu|Montant_revenu|\n",
      "+------+---------------+------------+--------------------+--------------+\n",
      "|PDBO18|             30|   Crediteur|Investissements i...|         31240|\n",
      "|URKQ44|              9|   Crediteur|Travail Independa...|         21402|\n",
      "|CJHP88|             37|   Crediteur|Location Immobili...|         46840|\n",
      "|MFVC48|             33|   Crediteur|Salaire Net (1007...|         78981|\n",
      "|FRQG19|             29|   Crediteur|Salaire Net (1520...|          5620|\n",
      "|AFSY16|             27|   Crediteur|Placements Financ...|         94054|\n",
      "|OOJJ49|             31|    Debiteur|Salaire Net (1522...|         65277|\n",
      "|GUTI55|              8|   Crediteur|Salaire Net (2069...|         34914|\n",
      "|YEBV67|             39|   Crediteur| Salaire Net (22364)|          7647|\n",
      "|HFRK17|             42|   Crediteur|           Agricoles|         26259|\n",
      "|DPNR37|             24|    Debiteur|Travail Independa...|         90618|\n",
      "|QLYU27|             11|    Debiteur|Placements Financ...|         80003|\n",
      "|HHRX13|             30|    Debiteur|Location Immobiliere|         83187|\n",
      "|VQVX26|             40|    Debiteur|Salaire Net (4109...|         85992|\n",
      "|ZWDD81|             22|    Debiteur|Dividendes- Pensi...|         36347|\n",
      "|FZGH80|             20|   Crediteur|Investissements i...|         91563|\n",
      "|IGAI28|             17|    Debiteur|Location Immobili...|         94794|\n",
      "|OBEY66|             25|   Crediteur|Placements Financ...|         39481|\n",
      "|MGGK58|             27|   Crediteur|Investissements i...|         85471|\n",
      "|HKES60|             43|    Debiteur|           Agricoles|          2844|\n",
      "+------+---------------+------------+--------------------+--------------+\n",
      "only showing top 20 rows\n",
      "\n"
     ]
    }
   ],
   "source": [
    "from pyspark.sql.functions import col, when\n",
    "\n",
    "# Filtrer les lignes où TauxEndettement > 60\n",
    "filtered_df = filtered_df.filter(col(\"TauxEndettement\") > 50)\n",
    "\n",
    "# Modifier le TauxEndettement pour les personnes dont le TauxEndettement > 50\n",
    "filtered_df = df.withColumn(\"TauxEndettement\", \n",
    "                                     when(col(\"TauxEndettement\") > 50, \n",
    "                                          ((col(\"TauxEndettement\") - 50) * 50 / (100 - 50)))\n",
    "                                     .otherwise(col(\"TauxEndettement\")).cast(\"int\"))\n",
    "\n",
    "\n",
    "# Afficher le schéma pour vérifier les types de données\n",
    "filtered_df.printSchema()\n",
    "\n",
    "# Afficher quelques lignes pour vérifier les modifications\n",
    "filtered_df.show()"
   ]
  },
  {
   "cell_type": "code",
   "execution_count": 8,
   "id": "92e72c26-d9f8-417a-93d7-d14dbf645658",
   "metadata": {},
   "outputs": [
    {
     "name": "stderr",
     "output_type": "stream",
     "text": [
      "[Stage 9:>                                                          (0 + 2) / 2]\r"
     ]
    },
    {
     "name": "stdout",
     "output_type": "stream",
     "text": [
      "Nombre de personnes dont le TauxEndettement est supérieur à 60: 0\n"
     ]
    },
    {
     "name": "stderr",
     "output_type": "stream",
     "text": [
      "                                                                                \r"
     ]
    }
   ],
   "source": [
    "# Filtrer les lignes où TauxEndettement > 60\n",
    "n = filtered_df.filter(col(\"TauxEndettement\") > 50)\n",
    "\n",
    "# Compter le nombre de lignes filtrées\n",
    "count = n.count()\n",
    "\n",
    "print(f\"Nombre de personnes dont le TauxEndettement est supérieur à 60: {count}\")"
   ]
  },
  {
   "cell_type": "markdown",
   "id": "61f62c7a-0313-48b8-a480-895a086286d5",
   "metadata": {},
   "source": [
    "#### Arrondir le montant de revenu"
   ]
  },
  {
   "cell_type": "code",
   "execution_count": 9,
   "id": "a1025d99-2f45-4798-93c8-a96aaa45d76b",
   "metadata": {},
   "outputs": [
    {
     "name": "stdout",
     "output_type": "stream",
     "text": [
      "+------+---------------+------------+-----------------------------------------------------------------------------------+--------------+\n",
      "|Emp_ID|TauxEndettement|Depense_Gain|Revenu                                                                             |Montant_revenu|\n",
      "+------+---------------+------------+-----------------------------------------------------------------------------------+--------------+\n",
      "|PDBO18|30             |Crediteur   |Investissements immobiliers- Agricoles                                             |31000         |\n",
      "|URKQ44|9              |Crediteur   |Travail Independant ou Freelance                                                   |21000         |\n",
      "|CJHP88|37             |Crediteur   |Location Immobiliere- Pension                                                      |47000         |\n",
      "|MFVC48|33             |Crediteur   |Salaire Net (10071)- Location de biens Personnels                                  |79000         |\n",
      "|FRQG19|29             |Crediteur   |Salaire Net (15206)- Dividendes                                                    |6000          |\n",
      "|AFSY16|27             |Crediteur   |Placements Financiers                                                              |94000         |\n",
      "|OOJJ49|31             |Debiteur    |Salaire Net (15229)- Location de biens Personnels- Travail Independant ou Freelance|65000         |\n",
      "|GUTI55|8              |Crediteur   |Salaire Net (20695)- Placements Financiers                                         |35000         |\n",
      "|YEBV67|39             |Crediteur   |Salaire Net (22364)                                                                |8000          |\n",
      "|HFRK17|42             |Crediteur   |Agricoles                                                                          |26000         |\n",
      "|DPNR37|24             |Debiteur    |Travail Independant ou Freelance- Placements Financiers- Pension                   |91000         |\n",
      "|QLYU27|11             |Debiteur    |Placements Financiers                                                              |80000         |\n",
      "|HHRX13|30             |Debiteur    |Location Immobiliere                                                               |83000         |\n",
      "|VQVX26|40             |Debiteur    |Salaire Net (4109)- Placements Financiers                                          |86000         |\n",
      "|ZWDD81|22             |Debiteur    |Dividendes- Pension- Travail Independant ou Freelance                              |36000         |\n",
      "|FZGH80|20             |Crediteur   |Investissements immobiliers- Location de biens Personnels- Dividendes              |92000         |\n",
      "|IGAI28|17             |Debiteur    |Location Immobiliere- Placements Financiers                                        |95000         |\n",
      "|OBEY66|25             |Crediteur   |Placements Financiers- Agricoles                                                   |39000         |\n",
      "|MGGK58|27             |Crediteur   |Investissements immobiliers- Agricoles- Travail Independant ou Freelance           |85000         |\n",
      "|HKES60|43             |Debiteur    |Agricoles                                                                          |3000          |\n",
      "+------+---------------+------------+-----------------------------------------------------------------------------------+--------------+\n",
      "only showing top 20 rows\n",
      "\n"
     ]
    }
   ],
   "source": [
    "# Round the Montant_revenu column to the nearest multiple of 1000\n",
    "filtered_df = filtered_df.withColumn(\"Montant_revenu\", round(col(\"Montant_revenu\") / 1000) * 1000)\n",
    "\n",
    "# Format the Montant_revenu column to string with trailing zeros\n",
    "filtered_df = filtered_df.withColumn(\"Montant_revenu\", format_string(\"%.0f\", col(\"Montant_revenu\")))\n",
    "\n",
    "# Show the results\n",
    "filtered_df.show(truncate=False)"
   ]
  },
  {
   "cell_type": "markdown",
   "id": "ab5dfad9-e0c3-4f44-91cc-ba1664d73034",
   "metadata": {},
   "source": [
    "#### Supprimer tous les clients qui ont à la fois un Salaire et une Pension dans leurs revenus"
   ]
  },
  {
   "cell_type": "code",
   "execution_count": 10,
   "id": "e46ad985-a561-452f-b182-7fef015d0b60",
   "metadata": {},
   "outputs": [
    {
     "name": "stderr",
     "output_type": "stream",
     "text": [
      "[Stage 13:>                                                         (0 + 2) / 2]\r"
     ]
    },
    {
     "name": "stdout",
     "output_type": "stream",
     "text": [
      "Nombre d'éléments avec Salaire et Pension : 37083\n"
     ]
    },
    {
     "name": "stderr",
     "output_type": "stream",
     "text": [
      "                                                                                \r"
     ]
    }
   ],
   "source": [
    "# Filtrer les lignes où la colonne 'Revenu' contient à la fois \"Salaire\" et \"Pension\"\n",
    "filtre = filtered_df.filter((col(\"Revenu\").contains(\"Salaire\")) & (col(\"Revenu\").contains(\"Pension\")))\n",
    "\n",
    "# Afficher le nombre d'éléments du DataFrame filtré\n",
    "count = filtre.count()\n",
    "\n",
    "print(f\"Nombre d'éléments avec Salaire et Pension : {count}\")"
   ]
  },
  {
   "cell_type": "code",
   "execution_count": 11,
   "id": "d7609bfb-5f57-4585-be04-b23902c42bec",
   "metadata": {},
   "outputs": [
    {
     "name": "stdout",
     "output_type": "stream",
     "text": [
      "+------+---------------+------------+-----------------------------------------------------------------------------------+--------------+\n",
      "|Emp_ID|TauxEndettement|Depense_Gain|Revenu                                                                             |Montant_revenu|\n",
      "+------+---------------+------------+-----------------------------------------------------------------------------------+--------------+\n",
      "|PDBO18|30             |Crediteur   |Investissements immobiliers- Agricoles                                             |31000         |\n",
      "|URKQ44|9              |Crediteur   |Travail Independant ou Freelance                                                   |21000         |\n",
      "|CJHP88|37             |Crediteur   |Location Immobiliere- Pension                                                      |47000         |\n",
      "|MFVC48|33             |Crediteur   |Salaire Net (10071)- Location de biens Personnels                                  |79000         |\n",
      "|FRQG19|29             |Crediteur   |Salaire Net (15206)- Dividendes                                                    |6000          |\n",
      "|AFSY16|27             |Crediteur   |Placements Financiers                                                              |94000         |\n",
      "|OOJJ49|31             |Debiteur    |Salaire Net (15229)- Location de biens Personnels- Travail Independant ou Freelance|65000         |\n",
      "|GUTI55|8              |Crediteur   |Salaire Net (20695)- Placements Financiers                                         |35000         |\n",
      "|YEBV67|39             |Crediteur   |Salaire Net (22364)                                                                |8000          |\n",
      "|HFRK17|42             |Crediteur   |Agricoles                                                                          |26000         |\n",
      "|DPNR37|24             |Debiteur    |Travail Independant ou Freelance- Placements Financiers- Pension                   |91000         |\n",
      "|QLYU27|11             |Debiteur    |Placements Financiers                                                              |80000         |\n",
      "|HHRX13|30             |Debiteur    |Location Immobiliere                                                               |83000         |\n",
      "|VQVX26|40             |Debiteur    |Salaire Net (4109)- Placements Financiers                                          |86000         |\n",
      "|ZWDD81|22             |Debiteur    |Dividendes- Pension- Travail Independant ou Freelance                              |36000         |\n",
      "|FZGH80|20             |Crediteur   |Investissements immobiliers- Location de biens Personnels- Dividendes              |92000         |\n",
      "|IGAI28|17             |Debiteur    |Location Immobiliere- Placements Financiers                                        |95000         |\n",
      "|OBEY66|25             |Crediteur   |Placements Financiers- Agricoles                                                   |39000         |\n",
      "|MGGK58|27             |Crediteur   |Investissements immobiliers- Agricoles- Travail Independant ou Freelance           |85000         |\n",
      "|HKES60|43             |Debiteur    |Agricoles                                                                          |3000          |\n",
      "+------+---------------+------------+-----------------------------------------------------------------------------------+--------------+\n",
      "only showing top 20 rows\n",
      "\n"
     ]
    }
   ],
   "source": [
    "# Supprimer ces lignes du DataFrame d'origine\n",
    "filtered_df = filtered_df.filter(~((col(\"Revenu\").contains(\"Salaire\")) & (col(\"Revenu\").contains(\"Pension\"))))\n",
    "\n",
    "# Afficher le DataFrame après suppression des lignes\n",
    "filtered_df.show(truncate=False)"
   ]
  },
  {
   "cell_type": "code",
   "execution_count": 12,
   "id": "39bf84bb-27b1-4b51-a4c5-b15972e8735c",
   "metadata": {},
   "outputs": [
    {
     "name": "stderr",
     "output_type": "stream",
     "text": [
      "[Stage 17:>                                                         (0 + 2) / 2]\r"
     ]
    },
    {
     "name": "stdout",
     "output_type": "stream",
     "text": [
      "Nombre d'éléments avec Salaire et Pension : 0\n"
     ]
    },
    {
     "name": "stderr",
     "output_type": "stream",
     "text": [
      "                                                                                \r"
     ]
    }
   ],
   "source": [
    "# Filtrer les lignes où la colonne 'Revenu' contient à la fois \"Salaire\" et \"Pension\"\n",
    "filtre = filtered_df.filter((col(\"Revenu\").contains(\"Salaire\")) & (col(\"Revenu\").contains(\"Pension\")))\n",
    "\n",
    "# Afficher le nombre d'éléments du DataFrame filtré\n",
    "count = filtre.count()\n",
    "\n",
    "print(f\"Nombre d'éléments avec Salaire et Pension : {count}\")"
   ]
  },
  {
   "cell_type": "code",
   "execution_count": 13,
   "id": "8b09cb2d-81a9-4092-8f1f-bb4399e19a21",
   "metadata": {},
   "outputs": [
    {
     "name": "stderr",
     "output_type": "stream",
     "text": [
      "[Stage 20:=============================>                            (1 + 1) / 2]\r"
     ]
    },
    {
     "name": "stdout",
     "output_type": "stream",
     "text": [
      "962917\n"
     ]
    },
    {
     "name": "stderr",
     "output_type": "stream",
     "text": [
      "                                                                                \r"
     ]
    }
   ],
   "source": [
    "# Nombre d'élément dans la dataset\n",
    "print(filtered_df.count())"
   ]
  },
  {
   "cell_type": "markdown",
   "id": "292638f0-5ffc-4401-be52-e35fc262539f",
   "metadata": {},
   "source": [
    "## Nettoyage des données personnelles des clients "
   ]
  },
  {
   "cell_type": "code",
   "execution_count": 14,
   "id": "75eb5c03-dc01-4ea2-bd4f-632e2d82a542",
   "metadata": {},
   "outputs": [
    {
     "name": "stdout",
     "output_type": "stream",
     "text": [
      "+------+----------+--------+--------------------+-----------+---+-----------+--------+--------------------+\n",
      "|Emp_ID|       Nom|  Prénom|    Adresse_actuelle|      Ville|Age| État_civil|    Sexe|          Profession|\n",
      "+------+----------+--------+--------------------+-----------+---+-----------+--------+--------------------+\n",
      "|PDBO18|   Mcclure|   Nancy|2711 Lisa Crossro...|Beni Mellal| 84|    Divorcé| Féminin|Travailleur Intér...|\n",
      "|URKQ44|  Galloway|  Briana|USNV Bautista FPO...|    Kénitra| 42|      Veuve|Masculin|Travailleur saiso...|\n",
      "|CJHP88|    Sutton|   Jason|393 Reyes Mall Mi...|     Meknès| 79|Célibataire| Féminin|                 RME|\n",
      "|MFVC48|  Ferguson|   Jason|19887 Mary Rapids...|    Kénitra| 69|Célibataire|Masculin|Travailleur Indép...|\n",
      "|FRQG19|     Cross|  Robert|0485 Rivera Squar...|     Agadir| 30|Célibataire| Féminin|       Fonctionnaire|\n",
      "|AFSY16|     Allen|    Mary|6637 Bradley Fore...| Mohammedia| 55|Célibataire|Masculin|Travailleur Indép...|\n",
      "|OOJJ49| Rodriguez|   Laura|344 Julia Mews Ap...|     Meknès| 60|      Veuve| Féminin| Profession libérale|\n",
      "|GUTI55|  Chambers|  Brenda|003 Knight Inlet ...|    Tétouan| 27|    Divorcé|Masculin|             Salarié|\n",
      "|YEBV67|      Case|   Brian|12764 Webster Hil...|     Agadir| 43|      Veuve|Masculin|       Fonctionnaire|\n",
      "|HFRK17|    Pruitt|Jennifer|6186 Mata Forks S...| Casablanca| 68|Célibataire| Féminin|       Fonctionnaire|\n",
      "|DPNR37|      Cobb|  Daniel|27462 Huerta Rout...|  Marrakech| 66|Célibataire| Féminin|                 RME|\n",
      "|QLYU27|Harrington| Matthew|0589 Brandon Turn...| Mohammedia| 47|      Marié|Masculin|Travailleur Indép...|\n",
      "|HHRX13|  Mcdonald|   Steve|930 Marc Fields D...|     Agadir| 25|      Veuve| Féminin|                 RME|\n",
      "|VQVX26|     Short|   Jerry|7398 Michael Cour...|       Safi| 34|      Veuve| Féminin|       Fonctionnaire|\n",
      "|ZWDD81|    Torres|    Sean|35367 Robinson Es...| Mohammedia| 82|      Veuve| Féminin|                 RME|\n",
      "|FZGH80|     Terry| Kenneth|Unit 0037 Box 578...|    Tétouan| 63|      Marié|Masculin|Employé du secteu...|\n",
      "|IGAI28|    Murphy| Vanessa|30315 John Bypass...|  Marrakech| 22|      Veuve| Féminin| Profession libérale|\n",
      "|OBEY66|  Cantrell| Matthew|55136 Mcdonald By...|      Rabat| 28|      Marié| Féminin|                 RME|\n",
      "|MGGK58|     Moore|   Shawn|Unit 8645 Box 460...|      Oujda| 60|Célibataire| Féminin|Travailleur Indép...|\n",
      "|HKES60|      Cook|   Wendy|8178 Owens Mounta...|    Kénitra| 92|      Veuve|Masculin|Travailleur Intér...|\n",
      "+------+----------+--------+--------------------+-----------+---+-----------+--------+--------------------+\n",
      "only showing top 20 rows\n",
      "\n"
     ]
    }
   ],
   "source": [
    "info_perso = spark.read.option(\"header\", \"true\").option(\"encoding\", \"UTF-8\").csv(\"/Omnidata_PFE_dataset/Informations_Personnelle.csv\")\n",
    "info_perso.show()\n"
   ]
  },
  {
   "cell_type": "markdown",
   "id": "c4d3a694-7450-4872-8f91-a03e5e5bf68d",
   "metadata": {},
   "source": [
    "#### Supprimer l'adresse des clients car elles sont fictives"
   ]
  },
  {
   "cell_type": "code",
   "execution_count": 15,
   "id": "444b592c-d329-4e20-9956-00bd267d22fc",
   "metadata": {},
   "outputs": [
    {
     "name": "stdout",
     "output_type": "stream",
     "text": [
      "+------+----------+--------+-----------+---+-----------+--------+--------------------+\n",
      "|Emp_ID|       Nom|  Prénom|      Ville|Age| État_civil|    Sexe|          Profession|\n",
      "+------+----------+--------+-----------+---+-----------+--------+--------------------+\n",
      "|PDBO18|   Mcclure|   Nancy|Beni Mellal| 84|    Divorcé| Féminin|Travailleur Intér...|\n",
      "|URKQ44|  Galloway|  Briana|    Kénitra| 42|      Veuve|Masculin|Travailleur saiso...|\n",
      "|CJHP88|    Sutton|   Jason|     Meknès| 79|Célibataire| Féminin|                 RME|\n",
      "|MFVC48|  Ferguson|   Jason|    Kénitra| 69|Célibataire|Masculin|Travailleur Indép...|\n",
      "|FRQG19|     Cross|  Robert|     Agadir| 30|Célibataire| Féminin|       Fonctionnaire|\n",
      "|AFSY16|     Allen|    Mary| Mohammedia| 55|Célibataire|Masculin|Travailleur Indép...|\n",
      "|OOJJ49| Rodriguez|   Laura|     Meknès| 60|      Veuve| Féminin| Profession libérale|\n",
      "|GUTI55|  Chambers|  Brenda|    Tétouan| 27|    Divorcé|Masculin|             Salarié|\n",
      "|YEBV67|      Case|   Brian|     Agadir| 43|      Veuve|Masculin|       Fonctionnaire|\n",
      "|HFRK17|    Pruitt|Jennifer| Casablanca| 68|Célibataire| Féminin|       Fonctionnaire|\n",
      "|DPNR37|      Cobb|  Daniel|  Marrakech| 66|Célibataire| Féminin|                 RME|\n",
      "|QLYU27|Harrington| Matthew| Mohammedia| 47|      Marié|Masculin|Travailleur Indép...|\n",
      "|HHRX13|  Mcdonald|   Steve|     Agadir| 25|      Veuve| Féminin|                 RME|\n",
      "|VQVX26|     Short|   Jerry|       Safi| 34|      Veuve| Féminin|       Fonctionnaire|\n",
      "|ZWDD81|    Torres|    Sean| Mohammedia| 82|      Veuve| Féminin|                 RME|\n",
      "|FZGH80|     Terry| Kenneth|    Tétouan| 63|      Marié|Masculin|Employé du secteu...|\n",
      "|IGAI28|    Murphy| Vanessa|  Marrakech| 22|      Veuve| Féminin| Profession libérale|\n",
      "|OBEY66|  Cantrell| Matthew|      Rabat| 28|      Marié| Féminin|                 RME|\n",
      "|MGGK58|     Moore|   Shawn|      Oujda| 60|Célibataire| Féminin|Travailleur Indép...|\n",
      "|HKES60|      Cook|   Wendy|    Kénitra| 92|      Veuve|Masculin|Travailleur Intér...|\n",
      "+------+----------+--------+-----------+---+-----------+--------+--------------------+\n",
      "only showing top 20 rows\n",
      "\n"
     ]
    }
   ],
   "source": [
    "# Supprimer la colonne 'Adresse'\n",
    "info_perso = info_perso.drop(\"Adresse_actuelle\")\n",
    "\n",
    "# Afficher les résultats\n",
    "info_perso.show()"
   ]
  },
  {
   "cell_type": "markdown",
   "id": "41ed6924-dae2-4d89-8c36-3a5c2b3a58ca",
   "metadata": {},
   "source": [
    "#### Transformer l'âge pour qu'il se situe dans l'intervalle [18,80]"
   ]
  },
  {
   "cell_type": "code",
   "execution_count": 16,
   "id": "ad34132e-9e70-43d5-968b-5baf6e42e342",
   "metadata": {},
   "outputs": [
    {
     "name": "stderr",
     "output_type": "stream",
     "text": [
      "[Stage 26:>                                                         (0 + 2) / 2]\r"
     ]
    },
    {
     "name": "stdout",
     "output_type": "stream",
     "text": [
      "Nombre de personnes ayant 65 ans ou plus : 421216\n"
     ]
    },
    {
     "name": "stderr",
     "output_type": "stream",
     "text": [
      "                                                                                \r"
     ]
    }
   ],
   "source": [
    "# Filtrer les personnes ayant 65 ans ou plus\n",
    "age_65_plus_df = info_perso.filter(col(\"Age\") > 65)\n",
    "\n",
    "# Compter le nombre de personnes de 65 ans ou plus\n",
    "count_age_65_plus = age_65_plus_df.count()\n",
    "\n",
    "# Afficher le résultat\n",
    "print(f\"Nombre de personnes ayant 65 ans ou plus : {count_age_65_plus}\")"
   ]
  },
  {
   "cell_type": "code",
   "execution_count": 17,
   "id": "d1d45af7-2fef-49a6-8910-f4dc88ff09a3",
   "metadata": {},
   "outputs": [
    {
     "name": "stderr",
     "output_type": "stream",
     "text": [
      "[Stage 29:>                                                         (0 + 2) / 2]\r"
     ]
    },
    {
     "name": "stdout",
     "output_type": "stream",
     "text": [
      "Nombre de personnes ayant 80 ans ou plus : 240555\n"
     ]
    },
    {
     "name": "stderr",
     "output_type": "stream",
     "text": [
      "                                                                                \r"
     ]
    }
   ],
   "source": [
    "# Filtrer les personnes ayant 80 ans ou plus\n",
    "age_80_plus_df = info_perso.filter(col(\"Age\") > 80)\n",
    "\n",
    "# Compter le nombre de personnes de 80 ans ou plus\n",
    "count_age_80_plus = age_80_plus_df.count()\n",
    "\n",
    "# Afficher le résultat\n",
    "print(f\"Nombre de personnes ayant 80 ans ou plus : {count_age_80_plus}\")"
   ]
  },
  {
   "cell_type": "code",
   "execution_count": 18,
   "id": "f85b5a6a-7f1d-4777-8411-33034b2a45ad",
   "metadata": {},
   "outputs": [
    {
     "name": "stdout",
     "output_type": "stream",
     "text": [
      "root\n",
      " |-- Emp_ID: string (nullable = true)\n",
      " |-- Nom: string (nullable = true)\n",
      " |-- Prénom: string (nullable = true)\n",
      " |-- Ville: string (nullable = true)\n",
      " |-- Age: integer (nullable = true)\n",
      " |-- État_civil: string (nullable = true)\n",
      " |-- Sexe: string (nullable = true)\n",
      " |-- Profession: string (nullable = true)\n",
      "\n",
      "+------+----------+--------+-----------+---+-----------+--------+--------------------+\n",
      "|Emp_ID|       Nom|  Prénom|      Ville|Age| État_civil|    Sexe|          Profession|\n",
      "+------+----------+--------+-----------+---+-----------+--------+--------------------+\n",
      "|PDBO18|   Mcclure|   Nancy|Beni Mellal| 43|    Divorcé| Féminin|Travailleur Intér...|\n",
      "|URKQ44|  Galloway|  Briana|    Kénitra| 42|      Veuve|Masculin|Travailleur saiso...|\n",
      "|CJHP88|    Sutton|   Jason|     Meknès| 79|Célibataire| Féminin|                 RME|\n",
      "|MFVC48|  Ferguson|   Jason|    Kénitra| 69|Célibataire|Masculin|Travailleur Indép...|\n",
      "|FRQG19|     Cross|  Robert|     Agadir| 30|Célibataire| Féminin|       Fonctionnaire|\n",
      "|AFSY16|     Allen|    Mary| Mohammedia| 55|Célibataire|Masculin|Travailleur Indép...|\n",
      "|OOJJ49| Rodriguez|   Laura|     Meknès| 60|      Veuve| Féminin| Profession libérale|\n",
      "|GUTI55|  Chambers|  Brenda|    Tétouan| 27|    Divorcé|Masculin|             Salarié|\n",
      "|YEBV67|      Case|   Brian|     Agadir| 43|      Veuve|Masculin|       Fonctionnaire|\n",
      "|HFRK17|    Pruitt|Jennifer| Casablanca| 68|Célibataire| Féminin|       Fonctionnaire|\n",
      "|DPNR37|      Cobb|  Daniel|  Marrakech| 66|Célibataire| Féminin|                 RME|\n",
      "|QLYU27|Harrington| Matthew| Mohammedia| 47|      Marié|Masculin|Travailleur Indép...|\n",
      "|HHRX13|  Mcdonald|   Steve|     Agadir| 25|      Veuve| Féminin|                 RME|\n",
      "|VQVX26|     Short|   Jerry|       Safi| 34|      Veuve| Féminin|       Fonctionnaire|\n",
      "|ZWDD81|    Torres|    Sean| Mohammedia| 40|      Veuve| Féminin|                 RME|\n",
      "|FZGH80|     Terry| Kenneth|    Tétouan| 63|      Marié|Masculin|Employé du secteu...|\n",
      "|IGAI28|    Murphy| Vanessa|  Marrakech| 22|      Veuve| Féminin| Profession libérale|\n",
      "|OBEY66|  Cantrell| Matthew|      Rabat| 28|      Marié| Féminin|                 RME|\n",
      "|MGGK58|     Moore|   Shawn|      Oujda| 60|Célibataire| Féminin|Travailleur Indép...|\n",
      "|HKES60|      Cook|   Wendy|    Kénitra| 54|      Veuve|Masculin|Travailleur Intér...|\n",
      "+------+----------+--------+-----------+---+-----------+--------+--------------------+\n",
      "only showing top 20 rows\n",
      "\n"
     ]
    }
   ],
   "source": [
    "# Modifier l'Age pour les personnes dont l'Âge > 65\n",
    "info_perso = info_perso.withColumn(\n",
    "    \"Age\",\n",
    "    when(col(\"Age\") > 80, ((col(\"Age\") - 65) * (65-18) / (100 - 65)) + 18).otherwise(col(\"Age\")).cast(\"int\")\n",
    ")\n",
    "\n",
    "# Afficher le schéma pour vérifier les types de données\n",
    "info_perso.printSchema()\n",
    "\n",
    "# Afficher quelques lignes pour vérifier les modifications\n",
    "info_perso.show()"
   ]
  },
  {
   "cell_type": "markdown",
   "id": "26a5d6f4-8717-4b07-a59c-3f626c79c3fd",
   "metadata": {},
   "source": [
    "#### Réduire le nombre de clients âgés de 66 à 80 ans en rajeunissant leur âge"
   ]
  },
  {
   "cell_type": "code",
   "execution_count": 19,
   "id": "23a613c7-cb17-417a-8894-e9b0bac5406c",
   "metadata": {},
   "outputs": [
    {
     "name": "stderr",
     "output_type": "stream",
     "text": [
      "[Stage 33:>                                                         (0 + 2) / 2]\r"
     ]
    },
    {
     "name": "stdout",
     "output_type": "stream",
     "text": [
      "Nombre de personnes ayant 65 ans ou plus : 180661\n"
     ]
    },
    {
     "name": "stderr",
     "output_type": "stream",
     "text": [
      "                                                                                \r"
     ]
    }
   ],
   "source": [
    "# Filtrer les personnes ayant 60 ans ou plus\n",
    "age_65_plus_df = info_perso.filter(col(\"Age\") > 65)\n",
    "\n",
    "# Compter le nombre de personnes de 60 ans ou plus\n",
    "count_age_65_plus = age_65_plus_df.count()\n",
    "\n",
    "# Afficher le résultat\n",
    "print(f\"Nombre de personnes ayant 65 ans ou plus : {count_age_65_plus}\")"
   ]
  },
  {
   "cell_type": "code",
   "execution_count": 20,
   "id": "a4f3ab4f-9da1-47e8-b8aa-13f09ddef938",
   "metadata": {},
   "outputs": [
    {
     "name": "stdout",
     "output_type": "stream",
     "text": [
      "root\n",
      " |-- Emp_ID: string (nullable = true)\n",
      " |-- Nom: string (nullable = true)\n",
      " |-- Prénom: string (nullable = true)\n",
      " |-- Ville: string (nullable = true)\n",
      " |-- Age: integer (nullable = true)\n",
      " |-- État_civil: string (nullable = true)\n",
      " |-- Sexe: string (nullable = true)\n",
      " |-- Profession: string (nullable = true)\n",
      "\n",
      "+------+----------+--------+-----------+---+-----------+--------+---------------------------------------+\n",
      "|Emp_ID|Nom       |Prénom  |Ville      |Age|État_civil |Sexe    |Profession                             |\n",
      "+------+----------+--------+-----------+---+-----------+--------+---------------------------------------+\n",
      "|PDBO18|Mcclure   |Nancy   |Beni Mellal|43 |Divorcé    |Féminin |Travailleur Intérimaire ou Contractuel |\n",
      "|URKQ44|Galloway  |Briana  |Kénitra    |42 |Veuve      |Masculin|Travailleur saisonnier ou intermittent |\n",
      "|CJHP88|Sutton    |Jason   |Meknès     |36 |Célibataire|Féminin |RME                                    |\n",
      "|MFVC48|Ferguson  |Jason   |Kénitra    |23 |Célibataire|Masculin|Travailleur Indépendant ou Entrepreneur|\n",
      "|FRQG19|Cross     |Robert  |Agadir     |30 |Célibataire|Féminin |Fonctionnaire                          |\n",
      "|AFSY16|Allen     |Mary    |Mohammedia |55 |Célibataire|Masculin|Travailleur Indépendant ou Entrepreneur|\n",
      "|OOJJ49|Rodriguez |Laura   |Meknès     |60 |Veuve      |Féminin |Profession libérale                    |\n",
      "|GUTI55|Chambers  |Brenda  |Tétouan    |27 |Divorcé    |Masculin|Salarié                                |\n",
      "|YEBV67|Case      |Brian   |Agadir     |43 |Veuve      |Masculin|Fonctionnaire                          |\n",
      "|HFRK17|Pruitt    |Jennifer|Casablanca |68 |Célibataire|Féminin |Fonctionnaire                          |\n",
      "|DPNR37|Cobb      |Daniel  |Marrakech  |66 |Célibataire|Féminin |RME                                    |\n",
      "|QLYU27|Harrington|Matthew |Mohammedia |47 |Marié      |Masculin|Travailleur Indépendant ou Entrepreneur|\n",
      "|HHRX13|Mcdonald  |Steve   |Agadir     |25 |Veuve      |Féminin |RME                                    |\n",
      "|VQVX26|Short     |Jerry   |Safi       |34 |Veuve      |Féminin |Fonctionnaire                          |\n",
      "|ZWDD81|Torres    |Sean    |Mohammedia |40 |Veuve      |Féminin |RME                                    |\n",
      "|FZGH80|Terry     |Kenneth |Tétouan    |63 |Marié      |Masculin|Employé du secteur Public              |\n",
      "|IGAI28|Murphy    |Vanessa |Marrakech  |22 |Veuve      |Féminin |Profession libérale                    |\n",
      "|OBEY66|Cantrell  |Matthew |Rabat      |28 |Marié      |Féminin |RME                                    |\n",
      "|MGGK58|Moore     |Shawn   |Oujda      |60 |Célibataire|Féminin |Travailleur Indépendant ou Entrepreneur|\n",
      "|HKES60|Cook      |Wendy   |Kénitra    |54 |Veuve      |Masculin|Travailleur Intérimaire ou Contractuel |\n",
      "+------+----------+--------+-----------+---+-----------+--------+---------------------------------------+\n",
      "only showing top 20 rows\n",
      "\n"
     ]
    }
   ],
   "source": [
    "from pyspark.sql import functions as F\n",
    "\n",
    "# Modifier l'Age pour les personnes dont l'Âge > 65\n",
    "info_perso = info_perso.withColumn(\n",
    "    \"Age\",\n",
    "    when(col(\"Age\") > 65, \n",
    "         when(F.rand() <= 0.6, ((col(\"Age\") - 65) * (65 - 18) / (100 - 65)) + 18)\n",
    "         .otherwise(col(\"Age\"))\n",
    "    ).otherwise(col(\"Age\")).cast(\"int\")\n",
    ")\n",
    "\n",
    "# Afficher le schéma pour vérifier les types de données\n",
    "info_perso.printSchema()\n",
    "\n",
    "# Afficher quelques lignes pour vérifier les modifications\n",
    "info_perso.show(truncate=False)"
   ]
  },
  {
   "cell_type": "code",
   "execution_count": 21,
   "id": "cdd5d297-27cc-41b9-b783-b7cd967b9931",
   "metadata": {},
   "outputs": [
    {
     "name": "stderr",
     "output_type": "stream",
     "text": [
      "[Stage 37:>                                                         (0 + 2) / 2]\r"
     ]
    },
    {
     "name": "stdout",
     "output_type": "stream",
     "text": [
      "Nombre de personnes ayant 65 ans ou plus : 72505\n"
     ]
    },
    {
     "name": "stderr",
     "output_type": "stream",
     "text": [
      "                                                                                \r"
     ]
    }
   ],
   "source": [
    "# Filtrer les personnes ayant 60 ans ou plus\n",
    "age_65_plus_df = info_perso.filter(col(\"Age\") > 65)\n",
    "\n",
    "# Compter le nombre de personnes de 60 ans ou plus\n",
    "count_age_65_plus = age_65_plus_df.count()\n",
    "\n",
    "# Afficher le résultat\n",
    "print(f\"Nombre de personnes ayant 65 ans ou plus : {count_age_65_plus}\")"
   ]
  },
  {
   "cell_type": "code",
   "execution_count": 22,
   "id": "140d8682-fa00-4d4d-8517-6a00ce2daf8c",
   "metadata": {},
   "outputs": [
    {
     "name": "stdout",
     "output_type": "stream",
     "text": [
      "root\n",
      " |-- Emp_ID: string (nullable = true)\n",
      " |-- Nom: string (nullable = true)\n",
      " |-- Prénom: string (nullable = true)\n",
      " |-- Ville: string (nullable = true)\n",
      " |-- Age: integer (nullable = true)\n",
      " |-- État_civil: string (nullable = true)\n",
      " |-- Sexe: string (nullable = true)\n",
      " |-- Profession: string (nullable = true)\n",
      "\n",
      "+------+--------+---------+----------+---+-----------+--------+--------------------------------------+\n",
      "|Emp_ID|Nom     |Prénom   |Ville     |Age|État_civil |Sexe    |Profession                            |\n",
      "+------+--------+---------+----------+---+-----------+--------+--------------------------------------+\n",
      "|HFRK17|Pruitt  |Jennifer |Casablanca|68 |Célibataire|Féminin |Fonctionnaire                         |\n",
      "|DPNR37|Cobb    |Daniel   |Marrakech |66 |Célibataire|Féminin |RME                                   |\n",
      "|MZIY07|Walker  |Victoria |Mohammedia|76 |Célibataire|Féminin |Salarié                               |\n",
      "|OINI05|Howell  |Sherri   |Fès       |74 |Marié      |Féminin |Travailleur Intérimaire ou Contractuel|\n",
      "|QJQL16|Jackson |Nicholas |Marrakech |80 |Veuve      |Féminin |Travailleur Intérimaire ou Contractuel|\n",
      "|TZRE36|Doyle   |Amy      |Tanger    |73 |Célibataire|Masculin|Employé du secteur Public             |\n",
      "|ATZS72|Roberts |Cynthia  |Tanger    |64 |Célibataire|Féminin |Travailleur Intérimaire ou Contractuel|\n",
      "|AVMJ99|Ballard |John     |Casablanca|75 |Célibataire|Féminin |Travailleur Intérimaire ou Contractuel|\n",
      "|MKXB97|Harper  |Robert   |Kénitra   |69 |Marié      |Féminin |Employé du secteur Semi-Public        |\n",
      "|BDRL32|Lewis   |Wendy    |Tanger    |74 |Divorcé    |Masculin|Employé du secteur Public             |\n",
      "|IBTP85|Church  |Sabrina  |Casablanca|75 |Célibataire|Féminin |RME                                   |\n",
      "|TLMC64|Porter  |Andrea   |El Jadida |76 |Divorcé    |Masculin|Retraité                              |\n",
      "|WUEE79|West    |Nancy    |Safi      |80 |Divorcé    |Masculin|Profession libérale                   |\n",
      "|TVLD76|Walker  |Luis     |Kénitra   |65 |Veuve      |Féminin |Fonctionnaire                         |\n",
      "|VBHD74|Reyes   |Nicole   |Oujda     |71 |Veuve      |Masculin|Employé du secteur Public             |\n",
      "|ZOLV66|Garcia  |Elizabeth|Safi      |64 |Veuve      |Féminin |Travailleur Intérimaire ou Contractuel|\n",
      "|PUIS90|Santiago|Amanda   |Kénitra   |78 |Marié      |Féminin |Retraité                              |\n",
      "|BTWX18|Coleman |Candice  |Kénitra   |79 |Divorcé    |Féminin |RME                                   |\n",
      "|ESQT16|Small   |Linda    |El Jadida |74 |Marié      |Masculin|Travailleur saisonnier ou intermittent|\n",
      "|GOMT25|Brennan |Raymond  |Fès       |64 |Veuve      |Masculin|Travailleur Intérimaire ou Contractuel|\n",
      "+------+--------+---------+----------+---+-----------+--------+--------------------------------------+\n",
      "only showing top 20 rows\n",
      "\n"
     ]
    }
   ],
   "source": [
    "# Filtrer les lignes où l'âge est strictement supérieur à 63\n",
    "filtered_age_df = info_perso.filter(col(\"Age\") > 63)\n",
    "\n",
    "# Afficher le schéma pour vérifier les types de données\n",
    "filtered_age_df.printSchema()\n",
    "\n",
    "# Afficher quelques lignes pour vérifier les modifications\n",
    "filtered_age_df.show(truncate=False)"
   ]
  },
  {
   "cell_type": "markdown",
   "id": "4fd9add9-7110-4011-9cd9-476e2b811ecc",
   "metadata": {},
   "source": [
    "#### Remplacer la profession de toutes les personnes âgées de 62 ans ou plus par \"Retraité\""
   ]
  },
  {
   "cell_type": "code",
   "execution_count": 23,
   "id": "f4678eaa-254e-4a87-a8ba-006f7c458370",
   "metadata": {},
   "outputs": [
    {
     "name": "stdout",
     "output_type": "stream",
     "text": [
      "root\n",
      " |-- Emp_ID: string (nullable = true)\n",
      " |-- Nom: string (nullable = true)\n",
      " |-- Prénom: string (nullable = true)\n",
      " |-- Ville: string (nullable = true)\n",
      " |-- Age: integer (nullable = true)\n",
      " |-- État_civil: string (nullable = true)\n",
      " |-- Sexe: string (nullable = true)\n",
      " |-- Profession: string (nullable = true)\n",
      "\n",
      "+------+----------+--------+-----------+---+-----------+--------+--------------------+\n",
      "|Emp_ID|       Nom|  Prénom|      Ville|Age| État_civil|    Sexe|          Profession|\n",
      "+------+----------+--------+-----------+---+-----------+--------+--------------------+\n",
      "|PDBO18|   Mcclure|   Nancy|Beni Mellal| 43|    Divorcé| Féminin|Travailleur Intér...|\n",
      "|URKQ44|  Galloway|  Briana|    Kénitra| 42|      Veuve|Masculin|Travailleur saiso...|\n",
      "|CJHP88|    Sutton|   Jason|     Meknès| 36|Célibataire| Féminin|                 RME|\n",
      "|MFVC48|  Ferguson|   Jason|    Kénitra| 23|Célibataire|Masculin|Travailleur Indép...|\n",
      "|FRQG19|     Cross|  Robert|     Agadir| 30|Célibataire| Féminin|       Fonctionnaire|\n",
      "|AFSY16|     Allen|    Mary| Mohammedia| 55|Célibataire|Masculin|Travailleur Indép...|\n",
      "|OOJJ49| Rodriguez|   Laura|     Meknès| 60|      Veuve| Féminin| Profession libérale|\n",
      "|GUTI55|  Chambers|  Brenda|    Tétouan| 27|    Divorcé|Masculin|             Salarié|\n",
      "|YEBV67|      Case|   Brian|     Agadir| 43|      Veuve|Masculin|       Fonctionnaire|\n",
      "|HFRK17|    Pruitt|Jennifer| Casablanca| 68|Célibataire| Féminin|            Retraité|\n",
      "|DPNR37|      Cobb|  Daniel|  Marrakech| 66|Célibataire| Féminin|            Retraité|\n",
      "|QLYU27|Harrington| Matthew| Mohammedia| 47|      Marié|Masculin|Travailleur Indép...|\n",
      "|HHRX13|  Mcdonald|   Steve|     Agadir| 25|      Veuve| Féminin|                 RME|\n",
      "|VQVX26|     Short|   Jerry|       Safi| 34|      Veuve| Féminin|       Fonctionnaire|\n",
      "|ZWDD81|    Torres|    Sean| Mohammedia| 40|      Veuve| Féminin|                 RME|\n",
      "|FZGH80|     Terry| Kenneth|    Tétouan| 63|      Marié|Masculin|            Retraité|\n",
      "|IGAI28|    Murphy| Vanessa|  Marrakech| 22|      Veuve| Féminin| Profession libérale|\n",
      "|OBEY66|  Cantrell| Matthew|      Rabat| 28|      Marié| Féminin|                 RME|\n",
      "|MGGK58|     Moore|   Shawn|      Oujda| 60|Célibataire| Féminin|Travailleur Indép...|\n",
      "|HKES60|      Cook|   Wendy|    Kénitra| 54|      Veuve|Masculin|Travailleur Intér...|\n",
      "+------+----------+--------+-----------+---+-----------+--------+--------------------+\n",
      "only showing top 20 rows\n",
      "\n"
     ]
    }
   ],
   "source": [
    "# Remplacer la profession par \"Retraité\" pour les personnes ayant un âge >= 62\n",
    "info_perso = info_perso.withColumn(\n",
    "    \"Profession\",\n",
    "    when(col(\"Age\") >= 62, \"Retraité\").otherwise(col(\"Profession\"))\n",
    ")\n",
    "\n",
    "# Afficher le schéma pour vérifier les types de données\n",
    "info_perso.printSchema()\n",
    "\n",
    "# Afficher quelques lignes pour vérifier les modifications\n",
    "info_perso.show()"
   ]
  },
  {
   "cell_type": "markdown",
   "id": "59e66b8a-b41c-4b97-85e8-05497cc94982",
   "metadata": {},
   "source": [
    "#### Associer le revenu \"Pension\" à chaque retraité dans leurs revenus"
   ]
  },
  {
   "cell_type": "code",
   "execution_count": 24,
   "id": "5843e143-59d3-43bd-86c1-2ec6f2926261",
   "metadata": {},
   "outputs": [
    {
     "name": "stderr",
     "output_type": "stream",
     "text": [
      "                                                                                \r"
     ]
    },
    {
     "name": "stdout",
     "output_type": "stream",
     "text": [
      "+------+---------------+------------+--------------------+--------------+\n",
      "|Emp_ID|TauxEndettement|Depense_Gain|              Revenu|Montant_revenu|\n",
      "+------+---------------+------------+--------------------+--------------+\n",
      "|AFSY16|             27|   Crediteur|Placements Financ...|         94000|\n",
      "|BQCN65|             11|    Debiteur|          Dividendes|         44000|\n",
      "|CJHP88|             37|   Crediteur|Location Immobili...|         47000|\n",
      "|DPNR37|             24|    Debiteur|Travail Independa...|         91000|\n",
      "|DWQS91|             26|   Crediteur|Placements Financ...|         26000|\n",
      "|FKWM95|             37|    Debiteur|Investissements i...|         56000|\n",
      "|FRQG19|             29|   Crediteur|Salaire Net (1520...|          6000|\n",
      "|GRXK41|             11|    Debiteur|          Dividendes|         17000|\n",
      "|HFRK17|             42|   Crediteur|   Agricoles-Pension|         26000|\n",
      "|HIDQ28|             46|   Crediteur|Location Immobili...|          5000|\n",
      "|HPQQ76|             12|   Crediteur|Agricoles- Invest...|         64000|\n",
      "|KINY52|             24|    Debiteur|             Pension|             0|\n",
      "|MFVC48|             33|   Crediteur|Salaire Net (1007...|         79000|\n",
      "|MGGK58|             27|   Crediteur|Investissements i...|         85000|\n",
      "|NROT16|             32|   Crediteur|Dividendes- Trava...|         74000|\n",
      "|OBEY66|             25|   Crediteur|Placements Financ...|         39000|\n",
      "|OGUX61|              4|   Crediteur|Salaire Net (2531...|         83000|\n",
      "|OOJJ49|             31|    Debiteur|Salaire Net (1522...|         65000|\n",
      "|QLYU27|             11|    Debiteur|Placements Financ...|         80000|\n",
      "|RHSN94|             38|    Debiteur|Investissements i...|         83000|\n",
      "+------+---------------+------------+--------------------+--------------+\n",
      "only showing top 20 rows\n",
      "\n"
     ]
    },
    {
     "name": "stderr",
     "output_type": "stream",
     "text": [
      "                                                                                \r"
     ]
    }
   ],
   "source": [
    "# Filtrer les retraités qui n'ont pas déjà \"Pension\" dans leurs revenus\n",
    "retraites_a_mettre_a_jour = filtered_df.join(info_perso, \"Emp_ID\") \\\n",
    "    .filter((col(\"Profession\") == \"Retraité\") & (~col(\"Revenu\").contains(\"Pension\")))\n",
    "\n",
    "# Mettre à jour la colonne `Revenu` pour les retraités filtrés\n",
    "retraites_a_mettre_a_jour = retraites_a_mettre_a_jour.withColumn(\n",
    "    \"Revenu\",\n",
    "    concat(col(\"Revenu\"), lit(\"-Pension\"))\n",
    ").select(\"Emp_ID\", \"Revenu\")\n",
    "\n",
    "# Mettre à jour les DataFrames originaux\n",
    "filtered_df = filtered_df.join(retraites_a_mettre_a_jour, \"Emp_ID\", \"left\").select(\n",
    "    filtered_df[\"Emp_ID\"],\n",
    "    filtered_df[\"TauxEndettement\"],\n",
    "    filtered_df[\"Depense_Gain\"],\n",
    "    when(retraites_a_mettre_a_jour[\"Revenu\"].isNull(), filtered_df[\"Revenu\"]).otherwise(retraites_a_mettre_a_jour[\"Revenu\"]).alias(\"Revenu\"),\n",
    "    filtered_df[\"Montant_revenu\"]\n",
    ")\n",
    "\n",
    "# Afficher les résultats pour vérifier\n",
    "filtered_df.show()"
   ]
  },
  {
   "cell_type": "code",
   "execution_count": 25,
   "id": "1d23293e-1fe5-49a5-a0d8-f46351842d5c",
   "metadata": {},
   "outputs": [
    {
     "name": "stderr",
     "output_type": "stream",
     "text": [
      "                                                                                \r"
     ]
    },
    {
     "name": "stdout",
     "output_type": "stream",
     "text": [
      "+------+--------+--------+-----------+---+-----------+--------+----------+---------------+------------+------------------------------------------------------------------------+--------------+\n",
      "|Emp_ID|Nom     |Prénom  |Ville      |Age|État_civil |Sexe    |Profession|TauxEndettement|Depense_Gain|Revenu                                                                  |Montant_revenu|\n",
      "+------+--------+--------+-----------+---+-----------+--------+----------+---------------+------------+------------------------------------------------------------------------+--------------+\n",
      "|AAAA89|Chan    |Alicia  |Tétouan    |49 |Divorcé    |Féminin |Retraité  |0              |Debiteur    |Placements Financiers-Pension                                           |81000         |\n",
      "|AAAD43|Lee     |Dylan   |Rabat      |54 |Célibataire|Féminin |Retraité  |16             |Debiteur    |Pension- Agricoles                                                      |34000         |\n",
      "|AAAD43|Lee     |Dylan   |Rabat      |54 |Célibataire|Féminin |Retraité  |18             |Crediteur   |Pension- Investissements immobiliers- Agricoles                         |21000         |\n",
      "|AAAU55|Ramirez |Carla   |Fès        |64 |Marié      |Féminin |Retraité  |49             |Debiteur    |Location Immobiliere-Pension                                            |5000          |\n",
      "|AABA83|Wagner  |Kevin   |Nador      |30 |Marié      |Masculin|Retraité  |2              |Debiteur    |Location Immobiliere- Agricoles- Pension                                |69000         |\n",
      "|AABC34|Gray    |Donald  |Meknès     |62 |Célibataire|Féminin |Retraité  |23             |Debiteur    |Pension                                                                 |36000         |\n",
      "|AABX17|Welch   |Anne    |Marrakech  |66 |Marié      |Masculin|Retraité  |40             |Debiteur    |Travail Independant ou Freelance- Dividendes- Salaire Net (3853)-Pension|78000         |\n",
      "|AACA01|Gentry  |Austin  |Rabat      |65 |Veuve      |Féminin |Retraité  |29             |Debiteur    |Pension                                                                 |14000         |\n",
      "|AACD08|Hoover  |Patricia|Safi       |34 |Veuve      |Féminin |Retraité  |26             |Crediteur   |Pension- Investissements immobiliers                                    |37000         |\n",
      "|AACF54|Taylor  |Justin  |Beni Mellal|65 |Célibataire|Masculin|Retraité  |27             |Crediteur   |Agricoles- Pension                                                      |90000         |\n",
      "|AACF61|Hamilton|Daisy   |Fès        |63 |Célibataire|Féminin |Retraité  |46             |Crediteur   |Agricoles-Pension                                                       |80000         |\n",
      "|AACM85|Monroe  |Kristin |Nador      |65 |Divorcé    |Féminin |Retraité  |18             |Debiteur    |Salaire Net (19702)- Placements Financiers- Agricoles-Pension           |30000         |\n",
      "|AACP07|Garcia  |Kimberly|Nador      |53 |Marié      |Féminin |Retraité  |25             |Debiteur    |Agricoles-Pension                                                       |94000         |\n",
      "|AACQ02|Miranda |Shaun   |El Jadida  |26 |Divorcé    |Masculin|Retraité  |9              |Crediteur   |Agricoles- Pension                                                      |67000         |\n",
      "|AACT93|Flynn   |Dylan   |Rabat      |32 |Marié      |Féminin |Retraité  |5              |Debiteur    |Pension                                                                 |24000         |\n",
      "|AACV12|Lopez   |Kristen |Kénitra    |78 |Veuve      |Féminin |Retraité  |35             |Debiteur    |Location Immobiliere-Pension                                            |13000         |\n",
      "|AADH29|Brooks  |Amanda  |Safi       |75 |Marié      |Féminin |Retraité  |42             |Crediteur   |Travail Independant ou Freelance-Pension                                |17000         |\n",
      "|AADL84|Williams|Courtney|Rabat      |35 |Marié      |Féminin |Retraité  |19             |Debiteur    |Location Immobiliere- Salaire Net (3962)-Pension                        |81000         |\n",
      "|AADM92|Fleming |Micheal |Agadir     |26 |Célibataire|Féminin |Retraité  |23             |Debiteur    |Agricoles- Location Immobiliere- Investissements immobiliers-Pension    |66000         |\n",
      "|AADN06|Reyes   |Jonathan|Fès        |63 |Divorcé    |Féminin |Retraité  |14             |Debiteur    |Location Immobiliere- Agricoles-Pension                                 |79000         |\n",
      "+------+--------+--------+-----------+---+-----------+--------+----------+---------------+------------+------------------------------------------------------------------------+--------------+\n",
      "only showing top 20 rows\n",
      "\n"
     ]
    },
    {
     "name": "stderr",
     "output_type": "stream",
     "text": [
      "                                                                                \r"
     ]
    }
   ],
   "source": [
    "# Filtrer les retraités dans info_perso\n",
    "retraites_info_perso = info_perso.filter(col(\"Profession\") == \"Retraité\")\n",
    "\n",
    "# Joindre les retraités avec leurs revenus dans filtered_df\n",
    "retraites_revenus = retraites_info_perso.join(filtered_df, \"Emp_ID\")\n",
    "\n",
    "# Afficher les résultats\n",
    "retraites_revenus.show(truncate=False)"
   ]
  },
  {
   "cell_type": "markdown",
   "id": "2692c237-5ef6-4338-a123-bc146fa854ff",
   "metadata": {},
   "source": [
    "#### Supprimer toutes les personnes considérées comme retraitées et âgées de 18 à 54 ans"
   ]
  },
  {
   "cell_type": "code",
   "execution_count": 26,
   "id": "1b0630cd-b9b1-4e64-b05d-ee16a9ba83de",
   "metadata": {},
   "outputs": [
    {
     "name": "stderr",
     "output_type": "stream",
     "text": [
      "[Stage 60:=============================>                            (1 + 1) / 2]\r"
     ]
    },
    {
     "name": "stdout",
     "output_type": "stream",
     "text": [
      "Nombre de retraités âgés de 18 à 54 ans avant suppression : 69622\n"
     ]
    },
    {
     "name": "stderr",
     "output_type": "stream",
     "text": [
      "                                                                                \r"
     ]
    }
   ],
   "source": [
    "# Compter les personnes dont l'âge est compris entre 18 et 54 inclus et la profession est \"Retraité\"\n",
    "retirees_age_18_to_54_count = info_perso.filter(\n",
    "    (col(\"Age\").between(18, 54)) & (col(\"Profession\") == \"Retraité\")\n",
    ").count()\n",
    "\n",
    "print(f\"Nombre de retraités âgés de 18 à 54 ans avant suppression : {retirees_age_18_to_54_count}\")"
   ]
  },
  {
   "cell_type": "code",
   "execution_count": 27,
   "id": "822d342f-6d26-42bd-b1fa-5bf678104844",
   "metadata": {},
   "outputs": [
    {
     "name": "stdout",
     "output_type": "stream",
     "text": [
      "+------+----------+--------+-----------+---+-----------+--------+--------------------+\n",
      "|Emp_ID|       Nom|  Prénom|      Ville|Age| État_civil|    Sexe|          Profession|\n",
      "+------+----------+--------+-----------+---+-----------+--------+--------------------+\n",
      "|PDBO18|   Mcclure|   Nancy|Beni Mellal| 43|    Divorcé| Féminin|Travailleur Intér...|\n",
      "|URKQ44|  Galloway|  Briana|    Kénitra| 42|      Veuve|Masculin|Travailleur saiso...|\n",
      "|CJHP88|    Sutton|   Jason|     Meknès| 36|Célibataire| Féminin|                 RME|\n",
      "|MFVC48|  Ferguson|   Jason|    Kénitra| 23|Célibataire|Masculin|Travailleur Indép...|\n",
      "|FRQG19|     Cross|  Robert|     Agadir| 30|Célibataire| Féminin|       Fonctionnaire|\n",
      "|AFSY16|     Allen|    Mary| Mohammedia| 55|Célibataire|Masculin|Travailleur Indép...|\n",
      "|OOJJ49| Rodriguez|   Laura|     Meknès| 60|      Veuve| Féminin| Profession libérale|\n",
      "|GUTI55|  Chambers|  Brenda|    Tétouan| 27|    Divorcé|Masculin|             Salarié|\n",
      "|YEBV67|      Case|   Brian|     Agadir| 43|      Veuve|Masculin|       Fonctionnaire|\n",
      "|HFRK17|    Pruitt|Jennifer| Casablanca| 68|Célibataire| Féminin|            Retraité|\n",
      "|DPNR37|      Cobb|  Daniel|  Marrakech| 66|Célibataire| Féminin|            Retraité|\n",
      "|QLYU27|Harrington| Matthew| Mohammedia| 47|      Marié|Masculin|Travailleur Indép...|\n",
      "|HHRX13|  Mcdonald|   Steve|     Agadir| 25|      Veuve| Féminin|                 RME|\n",
      "|VQVX26|     Short|   Jerry|       Safi| 34|      Veuve| Féminin|       Fonctionnaire|\n",
      "|ZWDD81|    Torres|    Sean| Mohammedia| 40|      Veuve| Féminin|                 RME|\n",
      "|FZGH80|     Terry| Kenneth|    Tétouan| 63|      Marié|Masculin|            Retraité|\n",
      "|IGAI28|    Murphy| Vanessa|  Marrakech| 22|      Veuve| Féminin| Profession libérale|\n",
      "|OBEY66|  Cantrell| Matthew|      Rabat| 28|      Marié| Féminin|                 RME|\n",
      "|MGGK58|     Moore|   Shawn|      Oujda| 60|Célibataire| Féminin|Travailleur Indép...|\n",
      "|HKES60|      Cook|   Wendy|    Kénitra| 54|      Veuve|Masculin|Travailleur Intér...|\n",
      "+------+----------+--------+-----------+---+-----------+--------+--------------------+\n",
      "only showing top 20 rows\n",
      "\n"
     ]
    }
   ],
   "source": [
    "# Remplacer la profession \"Retraité\" par \"Salarié\" pour les personnes dont l'âge est compris entre 18 et 54 inclus\n",
    "info_perso = info_perso.withColumn(\n",
    "    \"Profession\",\n",
    "    when((col(\"Age\").between(18, 54)) & (col(\"Profession\") == \"Retraité\"), \"Salarié\").otherwise(col(\"Profession\"))\n",
    ")\n",
    "\n",
    "# Afficher les résultats pour vérifier\n",
    "info_perso.show()"
   ]
  },
  {
   "cell_type": "code",
   "execution_count": 28,
   "id": "d5c1fcde-c024-4b95-9b00-fe9815d44de0",
   "metadata": {},
   "outputs": [
    {
     "name": "stderr",
     "output_type": "stream",
     "text": [
      "[Stage 64:>                                                         (0 + 2) / 2]\r"
     ]
    },
    {
     "name": "stdout",
     "output_type": "stream",
     "text": [
      "Nombre de retraités âgés de 18 à 54 ans avant suppression : 0\n"
     ]
    },
    {
     "name": "stderr",
     "output_type": "stream",
     "text": [
      "                                                                                \r"
     ]
    }
   ],
   "source": [
    "# Compter les personnes dont l'âge est compris entre 18 et 54 inclus et la profession est \"Retraité\"\n",
    "retirees_age_18_to_54_count = info_perso.filter(\n",
    "    (col(\"Age\").between(18, 54)) & (col(\"Profession\") == \"Retraité\")\n",
    ").count()\n",
    "\n",
    "print(f\"Nombre de retraités âgés de 18 à 54 ans avant suppression : {retirees_age_18_to_54_count}\")"
   ]
  },
  {
   "cell_type": "markdown",
   "id": "3c396628-01a4-46bc-a611-c33f468301f1",
   "metadata": {},
   "source": [
    "#### Transformer tous les hommes considérés comme \"Veuve\" en \"Célibataire\""
   ]
  },
  {
   "cell_type": "code",
   "execution_count": 29,
   "id": "2327f68b-96e5-40ca-a5e5-b7e9522ceb15",
   "metadata": {},
   "outputs": [
    {
     "name": "stderr",
     "output_type": "stream",
     "text": [
      "[Stage 67:>                                                         (0 + 2) / 2]\r"
     ]
    },
    {
     "name": "stdout",
     "output_type": "stream",
     "text": [
      "Number of 'Masculin' with 'Veuve' status: 124873\n"
     ]
    },
    {
     "name": "stderr",
     "output_type": "stream",
     "text": [
      "                                                                                \r"
     ]
    }
   ],
   "source": [
    "# Filter the DataFrame for 'Masculin' and 'Veuve' and count the rows\n",
    "count_masculin_veuve = info_perso.filter((col(\"Sexe\") == \"Masculin\") & (col(\"État_civil\") == \"Veuve\")).count()\n",
    "\n",
    "print(f\"Number of 'Masculin' with 'Veuve' status: {count_masculin_veuve}\")"
   ]
  },
  {
   "cell_type": "code",
   "execution_count": 30,
   "id": "d6f863b0-03a4-42f3-b568-1ebaae0b968a",
   "metadata": {},
   "outputs": [
    {
     "name": "stdout",
     "output_type": "stream",
     "text": [
      "+------+----------+--------+-----------+---+-----------+--------+--------------------+-----------+\n",
      "|Emp_ID|       Nom|  Prénom|      Ville|Age| État_civil|    Sexe|          Profession| Etat_civil|\n",
      "+------+----------+--------+-----------+---+-----------+--------+--------------------+-----------+\n",
      "|PDBO18|   Mcclure|   Nancy|Beni Mellal| 43|    Divorcé| Féminin|Travailleur Intér...|    Divorcé|\n",
      "|URKQ44|  Galloway|  Briana|    Kénitra| 42|      Veuve|Masculin|Travailleur saiso...|Célibataire|\n",
      "|CJHP88|    Sutton|   Jason|     Meknès| 36|Célibataire| Féminin|                 RME|Célibataire|\n",
      "|MFVC48|  Ferguson|   Jason|    Kénitra| 23|Célibataire|Masculin|Travailleur Indép...|Célibataire|\n",
      "|FRQG19|     Cross|  Robert|     Agadir| 30|Célibataire| Féminin|       Fonctionnaire|Célibataire|\n",
      "|AFSY16|     Allen|    Mary| Mohammedia| 55|Célibataire|Masculin|Travailleur Indép...|Célibataire|\n",
      "|OOJJ49| Rodriguez|   Laura|     Meknès| 60|      Veuve| Féminin| Profession libérale|      Veuve|\n",
      "|GUTI55|  Chambers|  Brenda|    Tétouan| 27|    Divorcé|Masculin|             Salarié|    Divorcé|\n",
      "|YEBV67|      Case|   Brian|     Agadir| 43|      Veuve|Masculin|       Fonctionnaire|Célibataire|\n",
      "|HFRK17|    Pruitt|Jennifer| Casablanca| 68|Célibataire| Féminin|            Retraité|Célibataire|\n",
      "|DPNR37|      Cobb|  Daniel|  Marrakech| 66|Célibataire| Féminin|            Retraité|Célibataire|\n",
      "|QLYU27|Harrington| Matthew| Mohammedia| 47|      Marié|Masculin|Travailleur Indép...|      Marié|\n",
      "|HHRX13|  Mcdonald|   Steve|     Agadir| 25|      Veuve| Féminin|                 RME|      Veuve|\n",
      "|VQVX26|     Short|   Jerry|       Safi| 34|      Veuve| Féminin|       Fonctionnaire|      Veuve|\n",
      "|ZWDD81|    Torres|    Sean| Mohammedia| 40|      Veuve| Féminin|                 RME|      Veuve|\n",
      "|FZGH80|     Terry| Kenneth|    Tétouan| 63|      Marié|Masculin|            Retraité|      Marié|\n",
      "|IGAI28|    Murphy| Vanessa|  Marrakech| 22|      Veuve| Féminin| Profession libérale|      Veuve|\n",
      "|OBEY66|  Cantrell| Matthew|      Rabat| 28|      Marié| Féminin|                 RME|      Marié|\n",
      "|MGGK58|     Moore|   Shawn|      Oujda| 60|Célibataire| Féminin|Travailleur Indép...|Célibataire|\n",
      "|HKES60|      Cook|   Wendy|    Kénitra| 54|      Veuve|Masculin|Travailleur Intér...|Célibataire|\n",
      "+------+----------+--------+-----------+---+-----------+--------+--------------------+-----------+\n",
      "only showing top 20 rows\n",
      "\n"
     ]
    },
    {
     "name": "stderr",
     "output_type": "stream",
     "text": [
      "                                                                                \r"
     ]
    },
    {
     "name": "stdout",
     "output_type": "stream",
     "text": [
      "+------+---------------+------------+--------------------+--------------+\n",
      "|Emp_ID|TauxEndettement|Depense_Gain|              Revenu|Montant_revenu|\n",
      "+------+---------------+------------+--------------------+--------------+\n",
      "|AFSY16|             27|   Crediteur|Placements Financ...|         94000|\n",
      "|BQCN65|             11|    Debiteur|          Dividendes|         44000|\n",
      "|CJHP88|             37|   Crediteur|Location Immobili...|         47000|\n",
      "|DPNR37|             24|    Debiteur|Travail Independa...|         91000|\n",
      "|DWQS91|             26|   Crediteur|Placements Financ...|         26000|\n",
      "|FKWM95|             37|    Debiteur|Investissements i...|         56000|\n",
      "|FRQG19|             29|   Crediteur|Salaire Net (1520...|          6000|\n",
      "|GRXK41|             11|    Debiteur|          Dividendes|         17000|\n",
      "|HFRK17|             42|   Crediteur|   Agricoles-Pension|         26000|\n",
      "|HIDQ28|             46|   Crediteur|Location Immobili...|          5000|\n",
      "|HPQQ76|             12|   Crediteur|Agricoles- Invest...|         64000|\n",
      "|KINY52|             24|    Debiteur|             Pension|             0|\n",
      "|MFVC48|             33|   Crediteur|Salaire Net (1007...|         79000|\n",
      "|MGGK58|             27|   Crediteur|Investissements i...|         85000|\n",
      "|NROT16|             32|   Crediteur|Dividendes- Trava...|         74000|\n",
      "|OBEY66|             25|   Crediteur|Placements Financ...|         39000|\n",
      "|OGUX61|              4|   Crediteur|Salaire Net (2531...|         83000|\n",
      "|OOJJ49|             31|    Debiteur|Salaire Net (1522...|         65000|\n",
      "|QLYU27|             11|    Debiteur|Placements Financ...|         80000|\n",
      "|RHSN94|             38|    Debiteur|Investissements i...|         83000|\n",
      "+------+---------------+------------+--------------------+--------------+\n",
      "only showing top 20 rows\n",
      "\n"
     ]
    }
   ],
   "source": [
    "# Update the 'Etat_civil' column\n",
    "info_perso = info_perso.withColumn(\n",
    "    \"Etat_civil\",\n",
    "    when((col(\"Sexe\") == \"Masculin\") & (col(\"État_civil\") == \"Veuve\"), \"Célibataire\").otherwise(col(\"État_civil\"))\n",
    ")\n",
    "\n",
    "# Show the updated DataFrame\n",
    "info_perso.show()\n",
    "filtered_df.show()"
   ]
  },
  {
   "cell_type": "code",
   "execution_count": 31,
   "id": "35748fde-aeb1-4b53-badd-b69f05fd52ca",
   "metadata": {},
   "outputs": [
    {
     "name": "stderr",
     "output_type": "stream",
     "text": [
      "[Stage 79:>                                                         (0 + 2) / 2]\r"
     ]
    },
    {
     "name": "stdout",
     "output_type": "stream",
     "text": [
      "Number of 'Masculin' with 'Veuve' status: 0\n"
     ]
    },
    {
     "name": "stderr",
     "output_type": "stream",
     "text": [
      "                                                                                \r"
     ]
    }
   ],
   "source": [
    "# Filter the DataFrame for 'Masculin' and 'Veuve' and count the rows\n",
    "count_masculin_veuve = info_perso.filter((col(\"Sexe\") == \"Masculin\") & (col(\"Etat_civil\") == \"Veuve\")).count()\n",
    "\n",
    "print(f\"Number of 'Masculin' with 'Veuve' status: {count_masculin_veuve}\")"
   ]
  },
  {
   "cell_type": "markdown",
   "id": "a4d39f90-b3a6-4577-b761-5ab80070feb3",
   "metadata": {},
   "source": [
    "#### Enlever le revenu \"Pension\" des personnes âgées de 18 à 54 ans dans leurs revenus"
   ]
  },
  {
   "cell_type": "code",
   "execution_count": 32,
   "id": "dfb47d77-0487-43ab-97d3-8e7c544ebeb4",
   "metadata": {},
   "outputs": [
    {
     "name": "stderr",
     "output_type": "stream",
     "text": [
      "[Stage 91:>                                                         (0 + 2) / 2]\r"
     ]
    },
    {
     "name": "stdout",
     "output_type": "stream",
     "text": [
      "Nombre de personnes dont l'âge est compris entre 18 et 54 et dont le revenu contient 'Pension' : 199832\n"
     ]
    },
    {
     "name": "stderr",
     "output_type": "stream",
     "text": [
      "                                                                                \r"
     ]
    }
   ],
   "source": [
    "# Filtrer les personnes dans info_perso dont l'âge est compris entre 18 et 54\n",
    "age_filtered_df = info_perso.filter(col(\"Age\").between(18, 54))\n",
    "\n",
    "# Filtrer les personnes dans filtered_df dont le revenu contient \"Pension\"\n",
    "pension_filtered_df = filtered_df.filter(col(\"Revenu\").contains(\"Pension\"))\n",
    "\n",
    "# Compter le nombre de personnes dont l'âge est compris entre 18 et 54 et dont le revenu contient \"Pension\"\n",
    "count = age_filtered_df.join(pension_filtered_df, \"Emp_ID\", \"inner\").count()\n",
    "\n",
    "print(f\"Nombre de personnes dont l'âge est compris entre 18 et 54 et dont le revenu contient 'Pension' : {count}\")"
   ]
  },
  {
   "cell_type": "code",
   "execution_count": 17,
   "id": "41a2f022-89bc-4472-848b-6568aafa9099",
   "metadata": {
    "scrolled": true
   },
   "outputs": [
    {
     "name": "stderr",
     "output_type": "stream",
     "text": [
      "[Stage 38:>                                                         (0 + 1) / 1]\r"
     ]
    },
    {
     "name": "stdout",
     "output_type": "stream",
     "text": [
      "+------+---------------+------------+--------------------+--------------+\n",
      "|Emp_ID|TauxEndettement|Depense_Gain|              Revenu|Montant_revenu|\n",
      "+------+---------------+------------+--------------------+--------------+\n",
      "|AFSY16|             27|   Crediteur|Placements Financ...|         94000|\n",
      "|BQCN65|             11|    Debiteur|          Dividendes|         44000|\n",
      "|CJHP88|             37|   Crediteur|Location Immobili...|         47000|\n",
      "|DPNR37|             24|    Debiteur|Travail Independa...|         91000|\n",
      "|DWQS91|             26|   Crediteur|Placements Financ...|         26000|\n",
      "|FKWM95|             37|    Debiteur|Investissements i...|         56000|\n",
      "|FRQG19|             29|   Crediteur|Salaire Net (1520...|          6000|\n",
      "|GRXK41|             11|    Debiteur|          Dividendes|         17000|\n",
      "|HFRK17|             42|   Crediteur|           Agricoles|         26000|\n",
      "|HIDQ28|             46|   Crediteur|Location Immobili...|          5000|\n",
      "|HPQQ76|             12|   Crediteur|Agricoles- Invest...|         64000|\n",
      "|KINY52|             24|    Debiteur|                    |             0|\n",
      "|MFVC48|             33|   Crediteur|Salaire Net (1007...|         79000|\n",
      "|MGGK58|             27|   Crediteur|Investissements i...|         85000|\n",
      "|NROT16|             32|   Crediteur|Dividendes- Trava...|         74000|\n",
      "|OBEY66|             25|   Crediteur|Placements Financ...|         39000|\n",
      "|OGUX61|              4|   Crediteur|Salaire Net (2531...|         83000|\n",
      "|OOJJ49|             31|    Debiteur|Salaire Net (1522...|         65000|\n",
      "|QLYU27|             11|    Debiteur|Placements Financ...|         80000|\n",
      "|RHSN94|             38|    Debiteur|Investissements i...|         83000|\n",
      "+------+---------------+------------+--------------------+--------------+\n",
      "only showing top 20 rows\n",
      "\n"
     ]
    },
    {
     "name": "stderr",
     "output_type": "stream",
     "text": [
      "                                                                                \r"
     ]
    }
   ],
   "source": [
    "# Filtrer les personnes dans info_perso dont l'âge est compris entre 18 et 54\n",
    "age_filtered_df = info_perso.filter(col(\"Age\").between(18, 54))\n",
    "\n",
    "# Filtrer les personnes dans filtered_df dont le revenu contient \"Pension\"\n",
    "pension_filtered_df = filtered_df.filter(col(\"Revenu\").contains(\"Pension\"))\n",
    "\n",
    "# Trouver les Emp_ID correspondant aux critères\n",
    "emp_ids_to_update = age_filtered_df.join(pension_filtered_df, \"Emp_ID\", \"inner\").select(\"Emp_ID\").distinct()\n",
    "\n",
    "# Mettre à jour la colonne `Revenu` pour supprimer \"Pension\" au début ou \"-Pension\" au milieu/à la fin\n",
    "updated_filtered_df = filtered_df.join(emp_ids_to_update, \"Emp_ID\", \"inner\").withColumn(\n",
    "    \"Revenu\",\n",
    "    regexp_replace(col(\"Revenu\"), r\"^Pension|-Pension|- Pension\", \"\")\n",
    ")\n",
    "\n",
    "# Mettre à jour le DataFrame original\n",
    "filtered_df = filtered_df.join(updated_filtered_df.select(\"Emp_ID\", \"Revenu\"), \"Emp_ID\", \"left\").select(\n",
    "    filtered_df[\"Emp_ID\"],\n",
    "    filtered_df[\"TauxEndettement\"],\n",
    "    filtered_df[\"Depense_Gain\"],\n",
    "    when(updated_filtered_df[\"Revenu\"].isNull(), filtered_df[\"Revenu\"]).otherwise(updated_filtered_df[\"Revenu\"]).alias(\"Revenu\"),\n",
    "    filtered_df[\"Montant_revenu\"]\n",
    ")\n",
    "\n",
    "# Afficher les résultats pour vérifier\n",
    "filtered_df.show()"
   ]
  },
  {
   "cell_type": "code",
   "execution_count": 18,
   "id": "13ed7c5d-f86c-41a6-bafc-e8d90c89c5d0",
   "metadata": {},
   "outputs": [
    {
     "name": "stderr",
     "output_type": "stream",
     "text": [
      "[Stage 46:>                                                         (0 + 2) / 2]\r"
     ]
    },
    {
     "name": "stdout",
     "output_type": "stream",
     "text": [
      "Nombre de personnes dont l'âge est compris entre 18 et 54 et dont le revenu contient 'Pension' : 0\n"
     ]
    },
    {
     "name": "stderr",
     "output_type": "stream",
     "text": [
      "                                                                                \r"
     ]
    }
   ],
   "source": [
    "# Filtrer les personnes dans info_perso dont l'âge est compris entre 18 et 54\n",
    "age_filtered_df = info_perso.filter(col(\"Age\").between(18, 54))\n",
    "\n",
    "# Filtrer les personnes dans filtered_df dont le revenu contient \"Pension\"\n",
    "pension_filtered_df = filtered_df.filter(col(\"Revenu\").contains(\"Pension\"))\n",
    "\n",
    "# Compter le nombre de personnes dont l'âge est compris entre 18 et 54 et dont le revenu contient \"Pension\"\n",
    "count = age_filtered_df.join(pension_filtered_df, \"Emp_ID\", \"inner\").count()\n",
    "\n",
    "print(f\"Nombre de personnes dont l'âge est compris entre 18 et 54 et dont le revenu contient 'Pension' : {count}\")"
   ]
  },
  {
   "cell_type": "markdown",
   "id": "fa920c08-5cec-4154-b9f6-069eb7c542eb",
   "metadata": {},
   "source": [
    "#### Sauvegarder les données personnelles et financières nettoyées"
   ]
  },
  {
   "cell_type": "code",
   "execution_count": 35,
   "id": "f5bc1040-38e9-43b4-8bc3-25c90784e122",
   "metadata": {},
   "outputs": [
    {
     "name": "stderr",
     "output_type": "stream",
     "text": [
      "                                                                                \r"
     ]
    }
   ],
   "source": [
    "# Chemin HDFS pour sauvegarder le DataFrame nettoyé\n",
    "output_path = \"hdfs:///Omnidata_PFE_dataset/Information_Personnelle_nettoyee.csv\"\n",
    "\n",
    "# Sauvegarder le DataFrame nettoyé en CSV\n",
    "info_perso.write.csv(output_path, header=True, mode=\"overwrite\")"
   ]
  },
  {
   "cell_type": "code",
   "execution_count": 20,
   "id": "fb3a4612-adba-4006-9745-987e9b8cf880",
   "metadata": {},
   "outputs": [
    {
     "name": "stderr",
     "output_type": "stream",
     "text": [
      "                                                                                \r"
     ]
    }
   ],
   "source": [
    "# Chemin HDFS pour sauvegarder le DataFrame nettoyé\n",
    "output_path = \"hdfs:///Omnidata_PFE_dataset/Situation_Financière_nettoyee.csv\"\n",
    "\n",
    "# Sauvegarder le DataFrame nettoyé en CSV\n",
    "filtered_df.write.csv(output_path, header=True, mode=\"overwrite\")"
   ]
  },
  {
   "cell_type": "markdown",
   "id": "23b1ad5e-0abb-4fcc-9783-035d3f87e2f3",
   "metadata": {},
   "source": [
    "#### Nettoyage des données de crédit des clients"
   ]
  },
  {
   "cell_type": "code",
   "execution_count": 48,
   "id": "abcd1ac0-5a9d-4b2d-bc53-0043c20eabd3",
   "metadata": {},
   "outputs": [
    {
     "name": "stdout",
     "output_type": "stream",
     "text": [
      "+------+------------+----------+----------------------------------------------------+------------+------------+--------------------------------------------+--------------------------------------------------------------+\n",
      "|Emp_ID|Type_credit |Duree_pret|Objet_pret                                          |Montant_pret|Credit_score|Historique_credits_precedent                |Garanties                                                     |\n",
      "+------+------------+----------+----------------------------------------------------+------------+------------+--------------------------------------------+--------------------------------------------------------------+\n",
      "|PDBO18|Consommation|51        |Événements Spéciaux                                 |9945159     |20          |Paiement par prélèvement automatique        |Domiciliation révocable de salaire                            |\n",
      "|URKQ44|Immobilier  |346       |Frais d'études supérieur                            |5196140     |85          |Encours des impayés                         |Caution solidaire                                             |\n",
      "|CJHP88|Immobilier  |227       |Construction                                        |2665712     |82          |Paiement par défaut avec accord de règlement|Nantissement de fonds d'épargne                               |\n",
      "|MFVC48|Consommation|299       |Investissement Locatif                              |1436774     |83          |Paiement par prélèvement automatique        |Domicialisation révocable de la pension                       |\n",
      "|FRQG19|Consommation|153       |Investissement Locatif                              |8251804     |67          |Encours des impayés                         |Hypothèque du titre foncier du bien Immobilier objet de crédit|\n",
      "|AFSY16|Consommation|278       |Financement d'achat de Véhicules                    |4935699     |62          |Paiement par défaut avec accord de règlement|Hypothèque autre titre fonciers                               |\n",
      "|OOJJ49|Consommation|238       |Rachat de l'encours de crédit d'autre compagnie     |9215173     |12          |Paiement anticipé                           |Nantissement de fonds d'épargne                               |\n",
      "|GUTI55|Immobilier  |122       |Rachat de l'encours de crédit d'autre compagnie     |8803190     |0           |Paiement par prélèvement automatique        |Domiciliation de revenus                                      |\n",
      "|YEBV67|Consommation|158       |Aménagement                                         |2272980     |84          |Encours des impayés                         |Domiciliation de revenus                                      |\n",
      "|HFRK17|Immobilier  |154       |Événements Spéciaux                                 |3541255     |24          |Paiement par défaut avec accord de règlement|Domiciliation révocable de salaire                            |\n",
      "|DPNR37|Consommation|387       |Frais d'études supérieur                            |3162905     |88          |Paiement anticipé                           |Domicialisation révocable de la pension                       |\n",
      "|QLYU27|Consommation|76        |Frais d'études supérieur                            |7169525     |1           |Paiement anticipé                           |Domiciliation révocable de salaire                            |\n",
      "|HHRX13|Immobilier  |333       |Rachat de l'encours de crédit d'autre compagnie     |5312212     |67          |Encours des impayés                         |Hypothèque du titre foncier du bien Immobilier objet de crédit|\n",
      "|VQVX26|Immobilier  |253       |Financement d'achat de Véhicules                    |7375961     |81          |Remboursement à  temps                      |Hypothèque autre titre fonciers                               |\n",
      "|ZWDD81|Immobilier  |31        |Frais d'études supérieur                            |5517904     |89          |Paiement par prélèvement automatique        |Hypothèque du titre foncier du bien Immobilier objet de crédit|\n",
      "|FZGH80|Consommation|32        |Rachat de l'encours de crédit d'autre compagnie     |282998      |35          |Liste noire au niveau de Banque Maghreb     |Caution solidaire                                             |\n",
      "|IGAI28|Immobilier  |380       |Événements Spéciaux                                 |306567      |30          |Paiement par prélèvement automatique        |Caution solidaire                                             |\n",
      "|OBEY66|Immobilier  |197       |Frais d'études supérieur                            |7057857     |59          |Paiement par défaut avec accord de règlement|Nantissement de fonds d'épargne                               |\n",
      "|MGGK58|Immobilier  |210       |Investissement Locatif                              |1472819     |52          |Paiement par prélèvement automatique        |Assurance Vie                                                 |\n",
      "|HKES60|Immobilier  |173       |Acquisition d'une Résidence Principale ou Secondaire|6197300     |92          |Paiement par défaut avec accord de règlement|Domiciliation de revenus                                      |\n",
      "+------+------------+----------+----------------------------------------------------+------------+------------+--------------------------------------------+--------------------------------------------------------------+\n",
      "only showing top 20 rows\n",
      "\n"
     ]
    }
   ],
   "source": [
    "detail_credit = spark.read.option(\"header\", \"true\").option(\"encoding\", \"UTF-8\").csv(\"/Omnidata_PFE_dataset/Détail_Crédit.csv\")\n",
    "detail_credit.show(truncate=False)\n"
   ]
  },
  {
   "cell_type": "markdown",
   "id": "ebe96b22-2dcd-4fb1-8bee-95d7c791cdda",
   "metadata": {},
   "source": [
    "#### Arrondir la durée du prêt"
   ]
  },
  {
   "cell_type": "code",
   "execution_count": 49,
   "id": "dcec2e9f-c1b5-4e2a-8bca-7abf46954702",
   "metadata": {},
   "outputs": [
    {
     "name": "stdout",
     "output_type": "stream",
     "text": [
      "root\n",
      " |-- Emp_ID: string (nullable = true)\n",
      " |-- Type_credit: string (nullable = true)\n",
      " |-- Duree_pret: double (nullable = true)\n",
      " |-- Objet_pret: string (nullable = true)\n",
      " |-- Montant_pret: string (nullable = true)\n",
      " |-- Credit_score: string (nullable = true)\n",
      " |-- Historique_credits_precedent: string (nullable = true)\n",
      " |-- Garanties: string (nullable = true)\n",
      "\n",
      "+------+------------+----------+--------------------+------------+------------+----------------------------+--------------------+\n",
      "|Emp_ID| Type_credit|Duree_pret|          Objet_pret|Montant_pret|Credit_score|Historique_credits_precedent|           Garanties|\n",
      "+------+------------+----------+--------------------+------------+------------+----------------------------+--------------------+\n",
      "|PDBO18|Consommation|      51.0| Événements Spéciaux|     9945159|          20|        Paiement par prél...|Domiciliation rév...|\n",
      "|URKQ44|  Immobilier|     346.0|Frais d'études su...|     5196140|          85|         Encours des impayés|   Caution solidaire|\n",
      "|CJHP88|  Immobilier|     227.0|        Construction|     2665712|          82|        Paiement par défa...|Nantissement de f...|\n",
      "|MFVC48|Consommation|     299.0|Investissement Lo...|     1436774|          83|        Paiement par prél...|Domicialisation r...|\n",
      "|FRQG19|Consommation|     153.0|Investissement Lo...|     8251804|          67|         Encours des impayés|Hypothèque du tit...|\n",
      "|AFSY16|Consommation|     278.0|Financement d'ach...|     4935699|          62|        Paiement par défa...|Hypothèque autre ...|\n",
      "|OOJJ49|Consommation|     238.0|Rachat de l'encou...|     9215173|          12|           Paiement anticipé|Nantissement de f...|\n",
      "|GUTI55|  Immobilier|     122.0|Rachat de l'encou...|     8803190|           0|        Paiement par prél...|Domiciliation de ...|\n",
      "|YEBV67|Consommation|     158.0|         Aménagement|     2272980|          84|         Encours des impayés|Domiciliation de ...|\n",
      "|HFRK17|  Immobilier|     154.0| Événements Spéciaux|     3541255|          24|        Paiement par défa...|Domiciliation rév...|\n",
      "|DPNR37|Consommation|     387.0|Frais d'études su...|     3162905|          88|           Paiement anticipé|Domicialisation r...|\n",
      "|QLYU27|Consommation|      76.0|Frais d'études su...|     7169525|           1|           Paiement anticipé|Domiciliation rév...|\n",
      "|HHRX13|  Immobilier|     333.0|Rachat de l'encou...|     5312212|          67|         Encours des impayés|Hypothèque du tit...|\n",
      "|VQVX26|  Immobilier|     253.0|Financement d'ach...|     7375961|          81|        Remboursement à  ...|Hypothèque autre ...|\n",
      "|ZWDD81|  Immobilier|      31.0|Frais d'études su...|     5517904|          89|        Paiement par prél...|Hypothèque du tit...|\n",
      "|FZGH80|Consommation|      32.0|Rachat de l'encou...|      282998|          35|        Liste noire au ni...|   Caution solidaire|\n",
      "|IGAI28|  Immobilier|     380.0| Événements Spéciaux|      306567|          30|        Paiement par prél...|   Caution solidaire|\n",
      "|OBEY66|  Immobilier|     197.0|Frais d'études su...|     7057857|          59|        Paiement par défa...|Nantissement de f...|\n",
      "|MGGK58|  Immobilier|     210.0|Investissement Lo...|     1472819|          52|        Paiement par prél...|       Assurance Vie|\n",
      "|HKES60|  Immobilier|     173.0|Acquisition d'une...|     6197300|          92|        Paiement par défa...|Domiciliation de ...|\n",
      "+------+------------+----------+--------------------+------------+------------+----------------------------+--------------------+\n",
      "only showing top 20 rows\n",
      "\n"
     ]
    }
   ],
   "source": [
    "# Arrondir la colonne Duree_pret\n",
    "detail_credit = detail_credit.withColumn(\"Duree_pret\", round(col(\"Duree_pret\")))\n",
    "\n",
    "# Afficher le schéma pour vérifier les types de données\n",
    "detail_credit.printSchema()\n",
    "\n",
    "# Afficher quelques lignes pour vérifier les modifications\n",
    "detail_credit.show()"
   ]
  },
  {
   "cell_type": "code",
   "execution_count": 50,
   "id": "b4ca726b-a7e4-4f2c-ab50-bf1ade9d72fb",
   "metadata": {},
   "outputs": [
    {
     "name": "stdout",
     "output_type": "stream",
     "text": [
      "root\n",
      " |-- Emp_ID: string (nullable = true)\n",
      " |-- Type_credit: string (nullable = true)\n",
      " |-- Duree_pret: integer (nullable = true)\n",
      " |-- Objet_pret: string (nullable = true)\n",
      " |-- Montant_pret: string (nullable = true)\n",
      " |-- Credit_score: string (nullable = true)\n",
      " |-- Historique_credits_precedent: string (nullable = true)\n",
      " |-- Garanties: string (nullable = true)\n",
      "\n",
      "+------+------------+----------+--------------------+------------+------------+----------------------------+--------------------+\n",
      "|Emp_ID| Type_credit|Duree_pret|          Objet_pret|Montant_pret|Credit_score|Historique_credits_precedent|           Garanties|\n",
      "+------+------------+----------+--------------------+------------+------------+----------------------------+--------------------+\n",
      "|PDBO18|Consommation|        60| Événements Spéciaux|     9945159|          20|        Paiement par prél...|Domiciliation rév...|\n",
      "|URKQ44|  Immobilier|       360|Frais d'études su...|     5196140|          85|         Encours des impayés|   Caution solidaire|\n",
      "|CJHP88|  Immobilier|       240|        Construction|     2665712|          82|        Paiement par défa...|Nantissement de f...|\n",
      "|MFVC48|Consommation|       300|Investissement Lo...|     1436774|          83|        Paiement par prél...|Domicialisation r...|\n",
      "|FRQG19|Consommation|       180|Investissement Lo...|     8251804|          67|         Encours des impayés|Hypothèque du tit...|\n",
      "|AFSY16|Consommation|       300|Financement d'ach...|     4935699|          62|        Paiement par défa...|Hypothèque autre ...|\n",
      "|OOJJ49|Consommation|       240|Rachat de l'encou...|     9215173|          12|           Paiement anticipé|Nantissement de f...|\n",
      "|GUTI55|  Immobilier|       150|Rachat de l'encou...|     8803190|           0|        Paiement par prél...|Domiciliation de ...|\n",
      "|YEBV67|Consommation|       180|         Aménagement|     2272980|          84|         Encours des impayés|Domiciliation de ...|\n",
      "|HFRK17|  Immobilier|       180| Événements Spéciaux|     3541255|          24|        Paiement par défa...|Domiciliation rév...|\n",
      "|DPNR37|Consommation|       390|Frais d'études su...|     3162905|          88|           Paiement anticipé|Domicialisation r...|\n",
      "|QLYU27|Consommation|        90|Frais d'études su...|     7169525|           1|           Paiement anticipé|Domiciliation rév...|\n",
      "|HHRX13|  Immobilier|       360|Rachat de l'encou...|     5312212|          67|         Encours des impayés|Hypothèque du tit...|\n",
      "|VQVX26|  Immobilier|       270|Financement d'ach...|     7375961|          81|        Remboursement à  ...|Hypothèque autre ...|\n",
      "|ZWDD81|  Immobilier|        60|Frais d'études su...|     5517904|          89|        Paiement par prél...|Hypothèque du tit...|\n",
      "|FZGH80|Consommation|        60|Rachat de l'encou...|      282998|          35|        Liste noire au ni...|   Caution solidaire|\n",
      "|IGAI28|  Immobilier|       390| Événements Spéciaux|      306567|          30|        Paiement par prél...|   Caution solidaire|\n",
      "|OBEY66|  Immobilier|       210|Frais d'études su...|     7057857|          59|        Paiement par défa...|Nantissement de f...|\n",
      "|MGGK58|  Immobilier|       210|Investissement Lo...|     1472819|          52|        Paiement par prél...|       Assurance Vie|\n",
      "|HKES60|  Immobilier|       180|Acquisition d'une...|     6197300|          92|        Paiement par défa...|Domiciliation de ...|\n",
      "+------+------------+----------+--------------------+------------+------------+----------------------------+--------------------+\n",
      "only showing top 20 rows\n",
      "\n"
     ]
    }
   ],
   "source": [
    "# Arrondir la colonne Duree_pret au multiple de 30 le plus proche\n",
    "# et s'assurer que les valeurs sont dans l'intervalle [6, 400]\n",
    "detail_credit = detail_credit.withColumn(\n",
    "    \"Duree_pret\",\n",
    "    when(\n",
    "        col(\"Duree_pret\") > 400,\n",
    "        400\n",
    "    ).otherwise(\n",
    "        when(\n",
    "            ceil(col(\"Duree_pret\") / 30) * 30 < 6,\n",
    "            6\n",
    "        ).otherwise(\n",
    "            (ceil(col(\"Duree_pret\") / 30) * 30).cast(\"int\")\n",
    "        )\n",
    "    )\n",
    ")\n",
    "\n",
    "# Afficher le schéma pour vérifier les types de données\n",
    "detail_credit.printSchema()\n",
    "\n",
    "# Afficher quelques lignes pour vérifier les modifications\n",
    "detail_credit.show()"
   ]
  },
  {
   "cell_type": "code",
   "execution_count": 51,
   "id": "6b823cb7-f075-4c86-8abe-2142ab4d8d99",
   "metadata": {},
   "outputs": [
    {
     "name": "stdout",
     "output_type": "stream",
     "text": [
      "+------+------------+----------+----------------------------------------------------+------------+------------+--------------------------------------------+--------------------------------------------------------------+\n",
      "|Emp_ID|Type_credit |Duree_pret|Objet_pret                                          |Montant_pret|Credit_score|Historique_credits_precedent                |Garanties                                                     |\n",
      "+------+------------+----------+----------------------------------------------------+------------+------------+--------------------------------------------+--------------------------------------------------------------+\n",
      "|PDBO18|Consommation|60        |Événements Spéciaux                                 |9945000     |20          |Paiement par prélèvement automatique        |Domiciliation révocable de salaire                            |\n",
      "|URKQ44|Immobilier  |360       |Frais d'études supérieur                            |5196000     |85          |Encours des impayés                         |Caution solidaire                                             |\n",
      "|CJHP88|Immobilier  |240       |Construction                                        |2666000     |82          |Paiement par défaut avec accord de règlement|Nantissement de fonds d'épargne                               |\n",
      "|MFVC48|Consommation|300       |Investissement Locatif                              |1437000     |83          |Paiement par prélèvement automatique        |Domicialisation révocable de la pension                       |\n",
      "|FRQG19|Consommation|180       |Investissement Locatif                              |8252000     |67          |Encours des impayés                         |Hypothèque du titre foncier du bien Immobilier objet de crédit|\n",
      "|AFSY16|Consommation|300       |Financement d'achat de Véhicules                    |4936000     |62          |Paiement par défaut avec accord de règlement|Hypothèque autre titre fonciers                               |\n",
      "|OOJJ49|Consommation|240       |Rachat de l'encours de crédit d'autre compagnie     |9215000     |12          |Paiement anticipé                           |Nantissement de fonds d'épargne                               |\n",
      "|GUTI55|Immobilier  |150       |Rachat de l'encours de crédit d'autre compagnie     |8803000     |0           |Paiement par prélèvement automatique        |Domiciliation de revenus                                      |\n",
      "|YEBV67|Consommation|180       |Aménagement                                         |2273000     |84          |Encours des impayés                         |Domiciliation de revenus                                      |\n",
      "|HFRK17|Immobilier  |180       |Événements Spéciaux                                 |3541000     |24          |Paiement par défaut avec accord de règlement|Domiciliation révocable de salaire                            |\n",
      "|DPNR37|Consommation|390       |Frais d'études supérieur                            |3163000     |88          |Paiement anticipé                           |Domicialisation révocable de la pension                       |\n",
      "|QLYU27|Consommation|90        |Frais d'études supérieur                            |7170000     |1           |Paiement anticipé                           |Domiciliation révocable de salaire                            |\n",
      "|HHRX13|Immobilier  |360       |Rachat de l'encours de crédit d'autre compagnie     |5312000     |67          |Encours des impayés                         |Hypothèque du titre foncier du bien Immobilier objet de crédit|\n",
      "|VQVX26|Immobilier  |270       |Financement d'achat de Véhicules                    |7376000     |81          |Remboursement à  temps                      |Hypothèque autre titre fonciers                               |\n",
      "|ZWDD81|Immobilier  |60        |Frais d'études supérieur                            |5518000     |89          |Paiement par prélèvement automatique        |Hypothèque du titre foncier du bien Immobilier objet de crédit|\n",
      "|FZGH80|Consommation|60        |Rachat de l'encours de crédit d'autre compagnie     |283000      |35          |Liste noire au niveau de Banque Maghreb     |Caution solidaire                                             |\n",
      "|IGAI28|Immobilier  |390       |Événements Spéciaux                                 |307000      |30          |Paiement par prélèvement automatique        |Caution solidaire                                             |\n",
      "|OBEY66|Immobilier  |210       |Frais d'études supérieur                            |7058000     |59          |Paiement par défaut avec accord de règlement|Nantissement de fonds d'épargne                               |\n",
      "|MGGK58|Immobilier  |210       |Investissement Locatif                              |1473000     |52          |Paiement par prélèvement automatique        |Assurance Vie                                                 |\n",
      "|HKES60|Immobilier  |180       |Acquisition d'une Résidence Principale ou Secondaire|6197000     |92          |Paiement par défaut avec accord de règlement|Domiciliation de revenus                                      |\n",
      "+------+------------+----------+----------------------------------------------------+------------+------------+--------------------------------------------+--------------------------------------------------------------+\n",
      "only showing top 20 rows\n",
      "\n"
     ]
    }
   ],
   "source": [
    "# Round the Montant_pret column to the nearest multiple of 1,000,000\n",
    "detail_credit = detail_credit.withColumn(\"Montant_pret\", round(col(\"Montant_pret\") / 1000) * 1000)\n",
    "\n",
    "# Format the Montant_pret column to string with trailing zeros\n",
    "detail_credit = detail_credit.withColumn(\"Montant_pret\", format_string(\"%.0f\", col(\"Montant_pret\")))\n",
    "\n",
    "# Show the results\n",
    "detail_credit.show(truncate=False)"
   ]
  },
  {
   "cell_type": "markdown",
   "id": "bfb80f0d-f95c-4946-b8ad-3698e4cf530c",
   "metadata": {},
   "source": [
    "#### Sauvegarder les données de crédit nettoyées des clients"
   ]
  },
  {
   "cell_type": "code",
   "execution_count": 52,
   "id": "130b31e7-2e33-4dc0-86a9-92c085782482",
   "metadata": {},
   "outputs": [
    {
     "name": "stderr",
     "output_type": "stream",
     "text": [
      "                                                                                \r"
     ]
    }
   ],
   "source": [
    "# Chemin HDFS pour sauvegarder le DataFrame nettoyé\n",
    "output_path = \"hdfs:///Omnidata_PFE_dataset/Détail_Crédit_nettoyee.csv\"\n",
    "\n",
    "# Sauvegarder le DataFrame nettoyé en CSV\n",
    "detail_credit.write.csv(output_path, header=True, mode=\"overwrite\")"
   ]
  },
  {
   "cell_type": "code",
   "execution_count": 44,
   "id": "6b3a098a-1a5d-4131-ac7e-caee3f0dd839",
   "metadata": {},
   "outputs": [],
   "source": [
    "# Arrêter la session Spark\n",
    "spark.stop()"
   ]
  },
  {
   "cell_type": "code",
   "execution_count": null,
   "id": "2818a300-25f9-4cdd-8669-be27bb14cd84",
   "metadata": {},
   "outputs": [],
   "source": []
  }
 ],
 "metadata": {
  "kernelspec": {
   "display_name": "Python 3 (ipykernel)",
   "language": "python",
   "name": "python3"
  },
  "language_info": {
   "codemirror_mode": {
    "name": "ipython",
    "version": 3
   },
   "file_extension": ".py",
   "mimetype": "text/x-python",
   "name": "python",
   "nbconvert_exporter": "python",
   "pygments_lexer": "ipython3",
   "version": "3.9.19"
  }
 },
 "nbformat": 4,
 "nbformat_minor": 5
}
